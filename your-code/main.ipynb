{
 "cells": [
  {
   "cell_type": "markdown",
   "metadata": {},
   "source": [
    "# Before your start:\n",
    "- Read the README.md file\n",
    "- Comment as much as you can and use the resources in the README.md file\n",
    "- Happy learning!"
   ]
  },
  {
   "cell_type": "code",
   "execution_count": 1,
   "metadata": {},
   "outputs": [],
   "source": [
    "# Import your libraries:\n",
    "import pandas as pd\n",
    "import numpy as  np \n",
    "\n",
    "from sklearn.datasets import load_boston\n",
    "from sklearn.model_selection import train_test_split\n",
    "from sklearn.linear_model import LinearRegression, Ridge, Lasso, ElasticNet\n",
    "from sklearn.ensemble import RandomForestRegressor\n",
    "from sklearn.preprocessing import StandardScaler"
   ]
  },
  {
   "cell_type": "markdown",
   "metadata": {},
   "source": [
    "# Challenge 1 - Explore the Scikit-Learn Datasets\n",
    "\n",
    "Before starting to work on our own datasets, let's first explore the datasets that are included in this Python library. These datasets have been cleaned and formatted for use in ML algorithms."
   ]
  },
  {
   "cell_type": "markdown",
   "metadata": {},
   "source": [
    "First, we will load the diabetes dataset. Do this in the cell below by importing the datasets and then loading the dataset  to the `diabetes` variable using the `load_diabetes()` function ([documentation](https://scikit-learn.org/stable/modules/generated/sklearn.datasets.load_diabetes.html))."
   ]
  },
  {
   "cell_type": "code",
   "execution_count": 3,
   "metadata": {},
   "outputs": [
    {
     "data": {
      "text/plain": [
       "dict_keys(['data', 'target', 'frame', 'DESCR', 'feature_names', 'data_filename', 'target_filename', 'data_module'])"
      ]
     },
     "execution_count": 3,
     "metadata": {},
     "output_type": "execute_result"
    }
   ],
   "source": [
    "# Your code here:\n",
    "from sklearn import datasets\n",
    "# dictionary-like object\n",
    "diabetesDataset = datasets.load_diabetes()\n",
    "diabetesDataset.keys()"
   ]
  },
  {
   "cell_type": "markdown",
   "metadata": {},
   "source": [
    "Let's explore this variable by looking at the different attributes (keys) of `diabetes`. Note that the `load_diabetes` function does not return dataframes. It returns you a Python dictionary."
   ]
  },
  {
   "cell_type": "code",
   "execution_count": 4,
   "metadata": {},
   "outputs": [
    {
     "data": {
      "text/plain": [
       "'.. _diabetes_dataset:\\n\\nDiabetes dataset\\n----------------\\n\\nTen baseline variables, age, sex, body mass index, average blood\\npressure, and six blood serum measurements were obtained for each of n =\\n442 diabetes patients, as well as the response of interest, a\\nquantitative measure of disease progression one year after baseline.\\n\\n**Data Set Characteristics:**\\n\\n  :Number of Instances: 442\\n\\n  :Number of Attributes: First 10 columns are numeric predictive values\\n\\n  :Target: Column 11 is a quantitative measure of disease progression one year after baseline\\n\\n  :Attribute Information:\\n      - age     age in years\\n      - sex\\n      - bmi     body mass index\\n      - bp      average blood pressure\\n      - s1      tc, total serum cholesterol\\n      - s2      ldl, low-density lipoproteins\\n      - s3      hdl, high-density lipoproteins\\n      - s4      tch, total cholesterol / HDL\\n      - s5      ltg, possibly log of serum triglycerides level\\n      - s6      glu, blood sugar level\\n\\nNote: Each of these 10 feature variables have been mean centered and scaled by the standard deviation times `n_samples` (i.e. the sum of squares of each column totals 1).\\n\\nSource URL:\\nhttps://www4.stat.ncsu.edu/~boos/var.select/diabetes.html\\n\\nFor more information see:\\nBradley Efron, Trevor Hastie, Iain Johnstone and Robert Tibshirani (2004) \"Least Angle Regression,\" Annals of Statistics (with discussion), 407-499.\\n(https://web.stanford.edu/~hastie/Papers/LARS/LeastAngle_2002.pdf)'"
      ]
     },
     "execution_count": 4,
     "metadata": {},
     "output_type": "execute_result"
    }
   ],
   "source": [
    "# Your code here:\n",
    "diabetesDataset.DESCR"
   ]
  },
  {
   "cell_type": "markdown",
   "metadata": {},
   "source": [
    "#### The next step is to read the description of the dataset. \n",
    "\n",
    "Print the description in the cell below using the `DESCR` attribute of the `diabetes` variable. Read the data description carefully to fully understand what each column represents.\n",
    "\n",
    "*Hint: If your output is ill-formatted by displaying linebreaks as `\\n`, it means you are not using the `print` function.*"
   ]
  },
  {
   "cell_type": "code",
   "execution_count": 5,
   "metadata": {
    "scrolled": false
   },
   "outputs": [
    {
     "name": "stdout",
     "output_type": "stream",
     "text": [
      ".. _diabetes_dataset:\n",
      "\n",
      "Diabetes dataset\n",
      "----------------\n",
      "\n",
      "Ten baseline variables, age, sex, body mass index, average blood\n",
      "pressure, and six blood serum measurements were obtained for each of n =\n",
      "442 diabetes patients, as well as the response of interest, a\n",
      "quantitative measure of disease progression one year after baseline.\n",
      "\n",
      "**Data Set Characteristics:**\n",
      "\n",
      "  :Number of Instances: 442\n",
      "\n",
      "  :Number of Attributes: First 10 columns are numeric predictive values\n",
      "\n",
      "  :Target: Column 11 is a quantitative measure of disease progression one year after baseline\n",
      "\n",
      "  :Attribute Information:\n",
      "      - age     age in years\n",
      "      - sex\n",
      "      - bmi     body mass index\n",
      "      - bp      average blood pressure\n",
      "      - s1      tc, total serum cholesterol\n",
      "      - s2      ldl, low-density lipoproteins\n",
      "      - s3      hdl, high-density lipoproteins\n",
      "      - s4      tch, total cholesterol / HDL\n",
      "      - s5      ltg, possibly log of serum triglycerides level\n",
      "      - s6      glu, blood sugar level\n",
      "\n",
      "Note: Each of these 10 feature variables have been mean centered and scaled by the standard deviation times `n_samples` (i.e. the sum of squares of each column totals 1).\n",
      "\n",
      "Source URL:\n",
      "https://www4.stat.ncsu.edu/~boos/var.select/diabetes.html\n",
      "\n",
      "For more information see:\n",
      "Bradley Efron, Trevor Hastie, Iain Johnstone and Robert Tibshirani (2004) \"Least Angle Regression,\" Annals of Statistics (with discussion), 407-499.\n",
      "(https://web.stanford.edu/~hastie/Papers/LARS/LeastAngle_2002.pdf)\n"
     ]
    }
   ],
   "source": [
    "# Your code here:\n",
    "print(diabetesDataset.DESCR)"
   ]
  },
  {
   "cell_type": "markdown",
   "metadata": {},
   "source": [
    "#### Based on the data description, answer the following questions:\n",
    "\n",
    "1. How many attributes are there in the data? What do they mean?\n",
    "\n",
    "1. What is the relation between `diabetes['data']` and `diabetes['target']`?\n",
    "\n",
    "1. How many records are there in the data?"
   ]
  },
  {
   "cell_type": "code",
   "execution_count": 9,
   "metadata": {},
   "outputs": [],
   "source": [
    "# Enter your answer here:\n",
    "\n",
    "#How many attributes are there in the data? What do they mean? 10 atributos \n",
    "\n",
    "#What is the relation between diabetes['data'] and diabetes['target']? las 10 atributos describe la enfermeda progresiva en la columna 11\n",
    "\n",
    "#How many records are there in the data? 442 filas "
   ]
  },
  {
   "cell_type": "markdown",
   "metadata": {},
   "source": [
    "#### Now explore what are contained in the *data* portion as well as the *target* portion of `diabetes`. \n",
    "\n",
    "Scikit-learn typically takes in 2D numpy arrays as input (though pandas dataframes are also accepted). Inspect the shape of `data` and `target`. Confirm they are consistent with the data description."
   ]
  },
  {
   "cell_type": "code",
   "execution_count": 15,
   "metadata": {},
   "outputs": [
    {
     "data": {
      "text/plain": [
       "array([[ 0.03807591,  0.05068012,  0.06169621, ..., -0.00259226,\n",
       "         0.01990842, -0.01764613],\n",
       "       [-0.00188202, -0.04464164, -0.05147406, ..., -0.03949338,\n",
       "        -0.06832974, -0.09220405],\n",
       "       [ 0.08529891,  0.05068012,  0.04445121, ..., -0.00259226,\n",
       "         0.00286377, -0.02593034],\n",
       "       ...,\n",
       "       [ 0.04170844,  0.05068012, -0.01590626, ..., -0.01107952,\n",
       "        -0.04687948,  0.01549073],\n",
       "       [-0.04547248, -0.04464164,  0.03906215, ...,  0.02655962,\n",
       "         0.04452837, -0.02593034],\n",
       "       [-0.04547248, -0.04464164, -0.0730303 , ..., -0.03949338,\n",
       "        -0.00421986,  0.00306441]])"
      ]
     },
     "execution_count": 15,
     "metadata": {},
     "output_type": "execute_result"
    }
   ],
   "source": [
    "import json\n",
    "from urllib.request import urlopen\n",
    "import pandas as pd\n",
    "from pandas.io.json import json_normalize\n",
    "diabetesDataset.data"
   ]
  },
  {
   "cell_type": "code",
   "execution_count": 17,
   "metadata": {},
   "outputs": [
    {
     "data": {
      "text/plain": [
       "((442, 10), (442, 1))"
      ]
     },
     "execution_count": 17,
     "metadata": {},
     "output_type": "execute_result"
    }
   ],
   "source": [
    "# Your code here:\n",
    "diabetes = pd.DataFrame(diabetesDataset.data, columns=diabetesDataset.feature_names)\n",
    "target =  pd.DataFrame(diabetesDataset.target)\n",
    "\n",
    "diabetes.shape, target.shape"
   ]
  },
  {
   "cell_type": "markdown",
   "metadata": {},
   "source": [
    "# Challenge 2 - Perform Supervised Learning on the Dataset"
   ]
  },
  {
   "cell_type": "markdown",
   "metadata": {},
   "source": [
    "The data have already been split to predictor (*data*) and response (*target*) variables. Given this information, we'll apply what we have previously learned about linear regression and apply the algorithm to the diabetes dataset.\n",
    "\n",
    "#### Let's briefly revisit the linear regression formula:\n",
    "\n",
    "```\n",
    "y = β0 + β1X1 + β2X2 + ... + βnXn + ϵ\n",
    "```\n",
    "\n",
    "...where:\n",
    "\n",
    "- X1-Xn: data \n",
    "- β0: intercept \n",
    "- β1-βn: coefficients \n",
    "- ϵ: error (cannot explained by model)\n",
    "- y: target\n",
    "\n",
    "Also take a look at the `sklearn.linear_model.LinearRegression` [documentation](https://scikit-learn.org/stable/modules/generated/sklearn.linear_model.LinearRegression.html).\n",
    "\n",
    "#### In the cell below, import the `linear_model` class from `sklearn`. "
   ]
  },
  {
   "cell_type": "code",
   "execution_count": null,
   "metadata": {},
   "outputs": [],
   "source": [
    "# Your code here:\n"
   ]
  },
  {
   "cell_type": "markdown",
   "metadata": {},
   "source": [
    "#### Create a new instance of the linear regression model and assign the new instance to the variable `diabetes_model`."
   ]
  },
  {
   "cell_type": "code",
   "execution_count": 18,
   "metadata": {},
   "outputs": [],
   "source": [
    "# Your code here:\n",
    "diabetes_model = LinearRegression()"
   ]
  },
  {
   "cell_type": "markdown",
   "metadata": {},
   "source": [
    "#### Next, let's split the training and test data.\n",
    "\n",
    "Define `diabetes_data_train`, `diabetes_target_train`, `diabetes_data_test`, and `diabetes_target_test`. Use the last 20 records for the test data and the rest for the training data."
   ]
  },
  {
   "cell_type": "code",
   "execution_count": 19,
   "metadata": {},
   "outputs": [],
   "source": [
    "# Your code here:\n",
    "X = diabetes\n",
    "y = target\n",
    "\n",
    "X_train, X_test, y_train, y_test = train_test_split(\n",
    "                                        X.values.reshape(-1,10),\n",
    "                                        y.values.reshape(-1,1),\n",
    "                                        train_size   = 0.8,\n",
    "                                        random_state = 40,\n",
    "                                        shuffle      = True\n",
    "                                    )\n"
   ]
  },
  {
   "cell_type": "code",
   "execution_count": 29,
   "metadata": {
    "collapsed": true
   },
   "outputs": [
    {
     "data": {
      "text/plain": [
       "array([[-0.00551455, -0.04464164,  0.06492964, ...,  0.00072884,\n",
       "        -0.01811827,  0.03205916],\n",
       "       [-0.04547248,  0.05068012, -0.02452876, ...,  0.07120998,\n",
       "         0.0423449 ,  0.01549073],\n",
       "       [-0.00551455,  0.05068012, -0.01159501, ..., -0.00259226,\n",
       "         0.0110081 ,  0.06933812],\n",
       "       ...,\n",
       "       [ 0.06350368,  0.05068012, -0.00189471, ...,  0.01770335,\n",
       "        -0.03581673,  0.00306441],\n",
       "       [-0.08906294, -0.04464164, -0.04177375, ..., -0.03949338,\n",
       "         0.0011438 , -0.03007245],\n",
       "       [ 0.04534098,  0.05068012, -0.00836158, ...,  0.03430886,\n",
       "         0.02993565,  0.02791705]])"
      ]
     },
     "execution_count": 29,
     "metadata": {},
     "output_type": "execute_result"
    }
   ],
   "source": [
    "diabte"
   ]
  },
  {
   "cell_type": "markdown",
   "metadata": {},
   "source": [
    "Fit the training data and target to `diabetes_model`. Print the *intercept* and *coefficients* of the model."
   ]
  },
  {
   "cell_type": "code",
   "execution_count": 35,
   "metadata": {},
   "outputs": [
    {
     "data": {
      "text/plain": [
       "(array([150.81398414]),\n",
       " array([[   24.30324094,  -234.27475469,   558.67936806,   303.40471546,\n",
       "         -1014.82629141,   576.90198157,   167.90312909,   188.26767955,\n",
       "           866.25383808,    18.32718138]]),\n",
       " 0.558332186425256)"
      ]
     },
     "execution_count": 35,
     "metadata": {},
     "output_type": "execute_result"
    }
   ],
   "source": [
    "# Your code here:\n",
    "diabetes_model.fit(X = X_train, y = y_train)\n",
    "\n",
    "diabetes_model.intercept_, diabetes_model.coef_, diabetes_model.score(X_train, y_train)\n"
   ]
  },
  {
   "cell_type": "markdown",
   "metadata": {},
   "source": [
    "#### Inspecting the results\n",
    "\n",
    "From the outputs you should have seen:\n",
    "\n",
    "- The intercept is a float number.\n",
    "- The coefficients are an array containing 10 float numbers.\n",
    "\n",
    "This is the linear regression model fitted to your training dataset.\n",
    "\n",
    "#### Using your fitted linear regression model, predict the *y* of `diabetes_data_test`."
   ]
  },
  {
   "cell_type": "code",
   "execution_count": 47,
   "metadata": {},
   "outputs": [
    {
     "data": {
      "text/plain": [
       "array([[ 89.94300224],\n",
       "       [173.60225052],\n",
       "       [213.38325901],\n",
       "       [217.89586324],\n",
       "       [153.97129196],\n",
       "       [223.80703241],\n",
       "       [151.39442011],\n",
       "       [ 84.96873184],\n",
       "       [176.4351802 ],\n",
       "       [141.07710952],\n",
       "       [168.28563228],\n",
       "       [119.07979157],\n",
       "       [ 51.69268434],\n",
       "       [166.79012436],\n",
       "       [ 70.17606917],\n",
       "       [185.92247591],\n",
       "       [152.73286443],\n",
       "       [145.49476382],\n",
       "       [ 96.03277405],\n",
       "       [144.36943482],\n",
       "       [ 56.17152673],\n",
       "       [261.24413484],\n",
       "       [136.78245828],\n",
       "       [139.42480414],\n",
       "       [ 68.80836783],\n",
       "       [192.35445793],\n",
       "       [141.74624111],\n",
       "       [114.23601629],\n",
       "       [179.76428926],\n",
       "       [ 70.5190996 ],\n",
       "       [163.44795613],\n",
       "       [148.47116418],\n",
       "       [125.02780455],\n",
       "       [161.23165998],\n",
       "       [ 94.69871686],\n",
       "       [ 56.84895479],\n",
       "       [114.75603801],\n",
       "       [ 69.11451378],\n",
       "       [204.87288428],\n",
       "       [147.98733538],\n",
       "       [154.45898782],\n",
       "       [ 70.32100557],\n",
       "       [165.22998587],\n",
       "       [150.01977302],\n",
       "       [194.59026077],\n",
       "       [148.68675942],\n",
       "       [ 93.44357455],\n",
       "       [175.82419243],\n",
       "       [ 91.76018298],\n",
       "       [260.12685218],\n",
       "       [217.43824125],\n",
       "       [166.38643755],\n",
       "       [230.26256995],\n",
       "       [212.05173201],\n",
       "       [129.84489137],\n",
       "       [193.39361011],\n",
       "       [118.39546081],\n",
       "       [133.74123612],\n",
       "       [119.9262296 ],\n",
       "       [167.95966086],\n",
       "       [175.05341371],\n",
       "       [ 50.64506527],\n",
       "       [190.87682186],\n",
       "       [166.7667491 ],\n",
       "       [189.80568957],\n",
       "       [116.40059863],\n",
       "       [243.66343544],\n",
       "       [227.57217242],\n",
       "       [147.34978068],\n",
       "       [218.07248776],\n",
       "       [206.19411773],\n",
       "       [157.61123859],\n",
       "       [126.02703907],\n",
       "       [154.69646842],\n",
       "       [266.01815615],\n",
       "       [ 85.10320525],\n",
       "       [237.92599066],\n",
       "       [ 86.50869532],\n",
       "       [254.83068653],\n",
       "       [148.22847618],\n",
       "       [170.20890924],\n",
       "       [ 81.40231272],\n",
       "       [ 70.50946939],\n",
       "       [125.81857235],\n",
       "       [276.82376799],\n",
       "       [110.6178779 ],\n",
       "       [ 47.13176185],\n",
       "       [143.72034102],\n",
       "       [190.77286311]])"
      ]
     },
     "execution_count": 47,
     "metadata": {},
     "output_type": "execute_result"
    }
   ],
   "source": [
    "# Your code here:\n",
    "predict = diabetes_model.predict(X = X_test)\n",
    "predict"
   ]
  },
  {
   "cell_type": "markdown",
   "metadata": {},
   "source": [
    "#### Print your `diabetes_target_test` and compare with the prediction. "
   ]
  },
  {
   "cell_type": "code",
   "execution_count": 43,
   "metadata": {},
   "outputs": [
    {
     "data": {
      "text/plain": [
       "array([[ 91.],\n",
       "       [ 91.],\n",
       "       [ 52.],\n",
       "       [310.],\n",
       "       [259.],\n",
       "       [317.],\n",
       "       [197.],\n",
       "       [158.],\n",
       "       [ 52.],\n",
       "       [ 93.],\n",
       "       [235.],\n",
       "       [ 68.],\n",
       "       [ 99.],\n",
       "       [122.],\n",
       "       [134.],\n",
       "       [175.],\n",
       "       [ 86.],\n",
       "       [ 88.],\n",
       "       [137.],\n",
       "       [302.],\n",
       "       [ 52.],\n",
       "       [281.],\n",
       "       [200.],\n",
       "       [ 40.],\n",
       "       [ 83.],\n",
       "       [ 78.],\n",
       "       [ 95.],\n",
       "       [179.],\n",
       "       [277.],\n",
       "       [ 92.],\n",
       "       [206.],\n",
       "       [150.],\n",
       "       [135.],\n",
       "       [178.],\n",
       "       [ 84.],\n",
       "       [ 52.],\n",
       "       [113.],\n",
       "       [ 75.],\n",
       "       [249.],\n",
       "       [ 61.],\n",
       "       [252.],\n",
       "       [200.],\n",
       "       [216.],\n",
       "       [ 91.],\n",
       "       [197.],\n",
       "       [ 97.],\n",
       "       [ 49.],\n",
       "       [151.],\n",
       "       [104.],\n",
       "       [242.],\n",
       "       [296.],\n",
       "       [181.],\n",
       "       [270.],\n",
       "       [173.],\n",
       "       [230.],\n",
       "       [233.],\n",
       "       [ 84.],\n",
       "       [115.],\n",
       "       [200.],\n",
       "       [156.],\n",
       "       [ 66.],\n",
       "       [ 72.],\n",
       "       [212.],\n",
       "       [139.],\n",
       "       [178.],\n",
       "       [160.],\n",
       "       [306.],\n",
       "       [128.],\n",
       "       [246.],\n",
       "       [268.],\n",
       "       [268.],\n",
       "       [179.],\n",
       "       [ 66.],\n",
       "       [118.],\n",
       "       [308.],\n",
       "       [ 93.],\n",
       "       [208.],\n",
       "       [118.],\n",
       "       [233.],\n",
       "       [ 55.],\n",
       "       [141.],\n",
       "       [ 53.],\n",
       "       [138.],\n",
       "       [ 83.],\n",
       "       [346.],\n",
       "       [253.],\n",
       "       [ 90.],\n",
       "       [142.],\n",
       "       [ 68.]])"
      ]
     },
     "execution_count": 43,
     "metadata": {},
     "output_type": "execute_result"
    }
   ],
   "source": [
    "# Your code here:\n",
    "y_test"
   ]
  },
  {
   "cell_type": "markdown",
   "metadata": {},
   "source": [
    "#### Is `diabetes_target_test` exactly the same as the model prediction? Explain."
   ]
  },
  {
   "cell_type": "code",
   "execution_count": 51,
   "metadata": {},
   "outputs": [
    {
     "data": {
      "text/plain": [
       "(4189.68160019527, 0.35116288023728315)"
      ]
     },
     "execution_count": 51,
     "metadata": {},
     "output_type": "execute_result"
    }
   ],
   "source": [
    "# Your explanation here:\n",
    "#los datos predichos no se asemejan a los datos de test ya que el modelo tiene un ajuste de 0.55, donde almenos 55%\n",
    "#de los datos puede predecir \n",
    " \n",
    "from sklearn.metrics import mean_squared_error as mse\n",
    "mse(y_test, predicciones), diabetes_model.score(X_test, y_test)"
   ]
  },
  {
   "cell_type": "markdown",
   "metadata": {},
   "source": [
    "# Bonus Challenge 1 - Hypothesis Testing with `statsmodels`\n",
    "\n",
    "After generating the linear regression model from the dataset, you probably wonder: then what? What is the statistical way to know if my model is reliable or not?\n",
    "\n",
    "Good question. We'll discuss that using Scikit-Learn in Challenge 5. But for now, let's use a fool-proof way by using the ([Linear Regression class of StatsModels](https://www.statsmodels.org/dev/regression.html)) which can also conduct linear regression analysis plus much more such as calcuating the F-score of the linear model as well as the standard errors and t-scores for each coefficient. The F-score and t-scores will tell you whether you can trust your linear model.\n",
    "\n",
    "To understand the statistical meaning of conducting hypothesis testing (e.g. F-test, t-test) for slopes, read [this webpage](https://onlinecourses.science.psu.edu/stat501/node/297/) at your leisure time. We'll give you a brief overview next.\n",
    "\n",
    "* The F-test of your linear model is to verify whether at least one of your coefficients is significantly different from zero. Translating that into the *null hypothesis* and *alternative hypothesis*, that is:\n",
    "\n",
    "    ```\n",
    "    H0 : β1 = β2 = ... = β10 = 0\n",
    "    HA : At least one βj ≠ 0 (for j = 1, 2, ..., 10)\n",
    "    ```\n",
    "\n",
    "* The t-tests on each coefficient is to check whether the confidence interval for the variable contains zero. If the confidence interval contains zero, it means the null hypothesis for that variable is not rejected. In other words, this particular vaiable is not contributing to your linear model and you can remove it from your formula.\n",
    "\n",
    "Read the documentations of [StatsModels Linear Regression](https://www.statsmodels.org/dev/regression.html) as well as its [`OLS` class](https://www.statsmodels.org/dev/generated/statsmodels.regression.linear_model.OLS.html) which stands for *ordinary least squares*.\n",
    "\n",
    "#### In the next cell, analyze `diabetes_data_train` and `diabetes_target_train` with the linear regression model of `statsmodels`. Print the fit summary.\n",
    "\n",
    "Your output should look like:\n",
    "\n",
    "![statsmodels regression](../statsmodels.png)"
   ]
  },
  {
   "cell_type": "code",
   "execution_count": null,
   "metadata": {},
   "outputs": [],
   "source": [
    "# Your code here:\n"
   ]
  },
  {
   "cell_type": "markdown",
   "metadata": {},
   "source": [
    "#### Interpreting hypothesis testing results\n",
    "\n",
    "Answer the following questions in the cell below:\n",
    "\n",
    "1. What is the F-score of your linear model and is the null hypothesis rejected?\n",
    "\n",
    "1. Does any of the t-tests of the coefficients produce a confidence interval containing zero? What are they?\n",
    "\n",
    "1. How will you modify your linear reguression model according to the test results above?"
   ]
  },
  {
   "cell_type": "code",
   "execution_count": null,
   "metadata": {},
   "outputs": [],
   "source": [
    "# Your answers here:"
   ]
  },
  {
   "cell_type": "markdown",
   "metadata": {},
   "source": [
    "# Challenge 3 - Peform Supervised Learning on a Pandas Dataframe"
   ]
  },
  {
   "cell_type": "markdown",
   "metadata": {},
   "source": [
    "Now that we have dealt with data that has been formatted for scikit-learn, let's look at data that we will need to format ourselves.\n",
    "\n",
    "In the next cell, load the `auto-mpg.csv` file included in this folder and assign it to a variable called `auto`."
   ]
  },
  {
   "cell_type": "code",
   "execution_count": 45,
   "metadata": {},
   "outputs": [],
   "source": [
    "# Your code here:\n",
    "auto = pd.read_csv('../auto-mpg.csv')\n",
    "\n"
   ]
  },
  {
   "cell_type": "markdown",
   "metadata": {},
   "source": [
    "Look at the first 5 rows using the `head()` function:"
   ]
  },
  {
   "cell_type": "code",
   "execution_count": 46,
   "metadata": {},
   "outputs": [
    {
     "data": {
      "text/html": [
       "<div>\n",
       "<style scoped>\n",
       "    .dataframe tbody tr th:only-of-type {\n",
       "        vertical-align: middle;\n",
       "    }\n",
       "\n",
       "    .dataframe tbody tr th {\n",
       "        vertical-align: top;\n",
       "    }\n",
       "\n",
       "    .dataframe thead th {\n",
       "        text-align: right;\n",
       "    }\n",
       "</style>\n",
       "<table border=\"1\" class=\"dataframe\">\n",
       "  <thead>\n",
       "    <tr style=\"text-align: right;\">\n",
       "      <th></th>\n",
       "      <th>mpg</th>\n",
       "      <th>cylinders</th>\n",
       "      <th>displacement</th>\n",
       "      <th>horse_power</th>\n",
       "      <th>weight</th>\n",
       "      <th>acceleration</th>\n",
       "      <th>model_year</th>\n",
       "      <th>car_name</th>\n",
       "    </tr>\n",
       "  </thead>\n",
       "  <tbody>\n",
       "    <tr>\n",
       "      <th>0</th>\n",
       "      <td>18.0</td>\n",
       "      <td>8</td>\n",
       "      <td>307.0</td>\n",
       "      <td>130.0</td>\n",
       "      <td>3504</td>\n",
       "      <td>12.0</td>\n",
       "      <td>70</td>\n",
       "      <td>\\t\"chevrolet chevelle malibu\"</td>\n",
       "    </tr>\n",
       "    <tr>\n",
       "      <th>1</th>\n",
       "      <td>15.0</td>\n",
       "      <td>8</td>\n",
       "      <td>350.0</td>\n",
       "      <td>165.0</td>\n",
       "      <td>3693</td>\n",
       "      <td>11.5</td>\n",
       "      <td>70</td>\n",
       "      <td>\\t\"buick skylark 320\"</td>\n",
       "    </tr>\n",
       "    <tr>\n",
       "      <th>2</th>\n",
       "      <td>18.0</td>\n",
       "      <td>8</td>\n",
       "      <td>318.0</td>\n",
       "      <td>150.0</td>\n",
       "      <td>3436</td>\n",
       "      <td>11.0</td>\n",
       "      <td>70</td>\n",
       "      <td>\\t\"plymouth satellite\"</td>\n",
       "    </tr>\n",
       "    <tr>\n",
       "      <th>3</th>\n",
       "      <td>16.0</td>\n",
       "      <td>8</td>\n",
       "      <td>304.0</td>\n",
       "      <td>150.0</td>\n",
       "      <td>3433</td>\n",
       "      <td>12.0</td>\n",
       "      <td>70</td>\n",
       "      <td>\\t\"amc rebel sst\"</td>\n",
       "    </tr>\n",
       "    <tr>\n",
       "      <th>4</th>\n",
       "      <td>17.0</td>\n",
       "      <td>8</td>\n",
       "      <td>302.0</td>\n",
       "      <td>140.0</td>\n",
       "      <td>3449</td>\n",
       "      <td>10.5</td>\n",
       "      <td>70</td>\n",
       "      <td>\\t\"ford torino\"</td>\n",
       "    </tr>\n",
       "  </tbody>\n",
       "</table>\n",
       "</div>"
      ],
      "text/plain": [
       "    mpg  cylinders  displacement  horse_power  weight  acceleration  \\\n",
       "0  18.0          8         307.0        130.0    3504          12.0   \n",
       "1  15.0          8         350.0        165.0    3693          11.5   \n",
       "2  18.0          8         318.0        150.0    3436          11.0   \n",
       "3  16.0          8         304.0        150.0    3433          12.0   \n",
       "4  17.0          8         302.0        140.0    3449          10.5   \n",
       "\n",
       "   model_year                       car_name  \n",
       "0          70  \\t\"chevrolet chevelle malibu\"  \n",
       "1          70          \\t\"buick skylark 320\"  \n",
       "2          70         \\t\"plymouth satellite\"  \n",
       "3          70              \\t\"amc rebel sst\"  \n",
       "4          70                \\t\"ford torino\"  "
      ]
     },
     "execution_count": 46,
     "metadata": {},
     "output_type": "execute_result"
    }
   ],
   "source": [
    "# Your code here:\n",
    "auto.head()"
   ]
  },
  {
   "cell_type": "markdown",
   "metadata": {},
   "source": [
    "Evaluate the data to ensure that all numeric columns are correctly detected as such by pandas. If a column is misclassified as object, coerce it to numeric."
   ]
  },
  {
   "cell_type": "code",
   "execution_count": 63,
   "metadata": {},
   "outputs": [
    {
     "name": "stdout",
     "output_type": "stream",
     "text": [
      "<class 'pandas.core.frame.DataFrame'>\n",
      "RangeIndex: 398 entries, 0 to 397\n",
      "Data columns (total 8 columns):\n",
      " #   Column        Non-Null Count  Dtype  \n",
      "---  ------        --------------  -----  \n",
      " 0   mpg           398 non-null    float64\n",
      " 1   cylinders     398 non-null    int64  \n",
      " 2   displacement  398 non-null    float64\n",
      " 3   horse_power   392 non-null    float64\n",
      " 4   weight        398 non-null    float64\n",
      " 5   acceleration  398 non-null    float64\n",
      " 6   model_year    398 non-null    int64  \n",
      " 7   car_name      398 non-null    object \n",
      "dtypes: float64(5), int64(2), object(1)\n",
      "memory usage: 25.0+ KB\n"
     ]
    }
   ],
   "source": [
    "# Your code here:\n",
    "auto.info()"
   ]
  },
  {
   "cell_type": "code",
   "execution_count": 57,
   "metadata": {},
   "outputs": [
    {
     "data": {
      "text/html": [
       "<div>\n",
       "<style scoped>\n",
       "    .dataframe tbody tr th:only-of-type {\n",
       "        vertical-align: middle;\n",
       "    }\n",
       "\n",
       "    .dataframe tbody tr th {\n",
       "        vertical-align: top;\n",
       "    }\n",
       "\n",
       "    .dataframe thead th {\n",
       "        text-align: right;\n",
       "    }\n",
       "</style>\n",
       "<table border=\"1\" class=\"dataframe\">\n",
       "  <thead>\n",
       "    <tr style=\"text-align: right;\">\n",
       "      <th></th>\n",
       "      <th>mpg</th>\n",
       "      <th>cylinders</th>\n",
       "      <th>displacement</th>\n",
       "      <th>horse_power</th>\n",
       "      <th>weight</th>\n",
       "      <th>acceleration</th>\n",
       "      <th>model_year</th>\n",
       "      <th>car_name</th>\n",
       "    </tr>\n",
       "  </thead>\n",
       "  <tbody>\n",
       "    <tr>\n",
       "      <th>116</th>\n",
       "      <td>16.0</td>\n",
       "      <td>8</td>\n",
       "      <td>400.0</td>\n",
       "      <td>230.0</td>\n",
       "      <td>4278</td>\n",
       "      <td>9.5</td>\n",
       "      <td>73</td>\n",
       "      <td>\\t\"pontiac grand prix\"</td>\n",
       "    </tr>\n",
       "    <tr>\n",
       "      <th>8</th>\n",
       "      <td>14.0</td>\n",
       "      <td>8</td>\n",
       "      <td>455.0</td>\n",
       "      <td>225.0</td>\n",
       "      <td>4425</td>\n",
       "      <td>10.0</td>\n",
       "      <td>70</td>\n",
       "      <td>\\t\"pontiac catalina\"</td>\n",
       "    </tr>\n",
       "    <tr>\n",
       "      <th>13</th>\n",
       "      <td>14.0</td>\n",
       "      <td>8</td>\n",
       "      <td>455.0</td>\n",
       "      <td>225.0</td>\n",
       "      <td>3086</td>\n",
       "      <td>10.0</td>\n",
       "      <td>70</td>\n",
       "      <td>\\t\"buick estate wagon (sw)\"</td>\n",
       "    </tr>\n",
       "    <tr>\n",
       "      <th>95</th>\n",
       "      <td>12.0</td>\n",
       "      <td>8</td>\n",
       "      <td>455.0</td>\n",
       "      <td>225.0</td>\n",
       "      <td>4951</td>\n",
       "      <td>11.0</td>\n",
       "      <td>73</td>\n",
       "      <td>\\t\"buick electra 225 custom\"</td>\n",
       "    </tr>\n",
       "    <tr>\n",
       "      <th>6</th>\n",
       "      <td>14.0</td>\n",
       "      <td>8</td>\n",
       "      <td>454.0</td>\n",
       "      <td>220.0</td>\n",
       "      <td>4354</td>\n",
       "      <td>9.0</td>\n",
       "      <td>70</td>\n",
       "      <td>\\t\"chevrolet impala\"</td>\n",
       "    </tr>\n",
       "  </tbody>\n",
       "</table>\n",
       "</div>"
      ],
      "text/plain": [
       "      mpg  cylinders  displacement  horse_power  weight  acceleration  \\\n",
       "116  16.0          8         400.0        230.0    4278           9.5   \n",
       "8    14.0          8         455.0        225.0    4425          10.0   \n",
       "13   14.0          8         455.0        225.0    3086          10.0   \n",
       "95   12.0          8         455.0        225.0    4951          11.0   \n",
       "6    14.0          8         454.0        220.0    4354           9.0   \n",
       "\n",
       "     model_year                      car_name  \n",
       "116          73        \\t\"pontiac grand prix\"  \n",
       "8            70          \\t\"pontiac catalina\"  \n",
       "13           70   \\t\"buick estate wagon (sw)\"  \n",
       "95           73  \\t\"buick electra 225 custom\"  \n",
       "6            70          \\t\"chevrolet impala\"  "
      ]
     },
     "execution_count": 57,
     "metadata": {},
     "output_type": "execute_result"
    }
   ],
   "source": [
    "auto.nlargest(5, 'horse_power' )"
   ]
  },
  {
   "cell_type": "code",
   "execution_count": 62,
   "metadata": {},
   "outputs": [],
   "source": [
    "auto.weight = auto.weight.astype('float64')"
   ]
  },
  {
   "cell_type": "markdown",
   "metadata": {},
   "source": [
    "What is the newest model year and the oldest model year?"
   ]
  },
  {
   "cell_type": "code",
   "execution_count": 66,
   "metadata": {},
   "outputs": [
    {
     "data": {
      "text/plain": [
       "array([70, 82], dtype=int64)"
      ]
     },
     "execution_count": 66,
     "metadata": {},
     "output_type": "execute_result"
    }
   ],
   "source": [
    "# Your code here:\n",
    "auto[(auto.model_year == auto.model_year.min())| (auto.model_year == auto.model_year.max())].model_year.unique()"
   ]
  },
  {
   "cell_type": "markdown",
   "metadata": {},
   "source": [
    "Check the dataset for missing values and remove all rows containing at least one missing value."
   ]
  },
  {
   "cell_type": "code",
   "execution_count": 69,
   "metadata": {},
   "outputs": [
    {
     "data": {
      "text/plain": [
       "mpg             0\n",
       "cylinders       0\n",
       "displacement    0\n",
       "horse_power     6\n",
       "weight          0\n",
       "acceleration    0\n",
       "model_year      0\n",
       "car_name        0\n",
       "dtype: int64"
      ]
     },
     "execution_count": 69,
     "metadata": {},
     "output_type": "execute_result"
    }
   ],
   "source": [
    "# Your code here:\n",
    "auto.isna().sum()"
   ]
  },
  {
   "cell_type": "markdown",
   "metadata": {},
   "source": [
    "Find the frequency table for the `cylinders` column using the `value_counts()` function. How many possible values of cylinders are there?"
   ]
  },
  {
   "cell_type": "code",
   "execution_count": 70,
   "metadata": {},
   "outputs": [],
   "source": [
    "# Your code here:\n",
    "auto.dropna(inplace=True)"
   ]
  },
  {
   "cell_type": "code",
   "execution_count": 72,
   "metadata": {},
   "outputs": [
    {
     "name": "stdout",
     "output_type": "stream",
     "text": [
      "<class 'pandas.core.frame.DataFrame'>\n",
      "Int64Index: 392 entries, 0 to 397\n",
      "Data columns (total 8 columns):\n",
      " #   Column        Non-Null Count  Dtype  \n",
      "---  ------        --------------  -----  \n",
      " 0   mpg           392 non-null    float64\n",
      " 1   cylinders     392 non-null    int64  \n",
      " 2   displacement  392 non-null    float64\n",
      " 3   horse_power   392 non-null    float64\n",
      " 4   weight        392 non-null    float64\n",
      " 5   acceleration  392 non-null    float64\n",
      " 6   model_year    392 non-null    int64  \n",
      " 7   car_name      392 non-null    object \n",
      "dtypes: float64(5), int64(2), object(1)\n",
      "memory usage: 27.6+ KB\n"
     ]
    }
   ],
   "source": [
    "auto.info()"
   ]
  },
  {
   "cell_type": "code",
   "execution_count": 73,
   "metadata": {},
   "outputs": [
    {
     "data": {
      "text/plain": [
       "4    199\n",
       "8    103\n",
       "6     83\n",
       "3      4\n",
       "5      3\n",
       "Name: cylinders, dtype: int64"
      ]
     },
     "execution_count": 73,
     "metadata": {},
     "output_type": "execute_result"
    }
   ],
   "source": [
    "auto.cylinders.value_counts()"
   ]
  },
  {
   "cell_type": "markdown",
   "metadata": {},
   "source": [
    "We would like to generate a linear regression model that will predict mpg. To do this, first drop the `car_name` column since it does not contain any quantitative data. Next separate the dataframe to predictor and response variables. Separate those into test and training data with 80% of the data in the training set and the remainder in the test set. \n",
    "\n",
    "Assign the predictor and response training data to `X_train` and `y_train` respectively. Similarly, assign the predictor and response test data to `X_test` and `y_test`.\n",
    "\n",
    "*Hint: To separate data for training and test, use the `train_test_split` method we used in previous labs.*"
   ]
  },
  {
   "cell_type": "code",
   "execution_count": 80,
   "metadata": {},
   "outputs": [],
   "source": [
    "# Your code here:\n",
    "auto.drop(columns='car_name', inplace=True)"
   ]
  },
  {
   "cell_type": "code",
   "execution_count": 150,
   "metadata": {},
   "outputs": [],
   "source": [
    "# Your code here:\n",
    "X = auto.drop(columns='mpg')\n",
    "y = auto.mpg\n",
    "\n",
    "X_train, X_test, y_train, y_test = train_test_split(\n",
    "                                        X.values.reshape(-1,6),\n",
    "                                        y.values.reshape(-1,1),\n",
    "                                        train_size   = 0.8,\n",
    "                                        random_state = 0,\n",
    "                                        shuffle      = True\n",
    "                                    )"
   ]
  },
  {
   "cell_type": "code",
   "execution_count": null,
   "metadata": {},
   "outputs": [],
   "source": []
  },
  {
   "cell_type": "code",
   "execution_count": null,
   "metadata": {},
   "outputs": [],
   "source": []
  },
  {
   "cell_type": "markdown",
   "metadata": {},
   "source": [
    "Now we will processed and peform linear regression on this data to predict the mpg for each vehicle. \n",
    "\n",
    "#### In the next cell, create an instance of the linear regression model and call it `auto_model`. Fit `auto_model` with your training data."
   ]
  },
  {
   "cell_type": "code",
   "execution_count": 151,
   "metadata": {},
   "outputs": [
    {
     "data": {
      "text/plain": [
       "0.8088490656511089"
      ]
     },
     "execution_count": 151,
     "metadata": {},
     "output_type": "execute_result"
    }
   ],
   "source": [
    "# Your code here:\n",
    "auto_model = LinearRegression()\n",
    "auto_model.fit(X_train, y_train)\n",
    "auto_model.score(X_train, y_train)"
   ]
  },
  {
   "cell_type": "markdown",
   "metadata": {},
   "source": [
    "# Challenge 4 - Evaluate the Model\n",
    "\n",
    "In addition to evaluating your model with F-test and t-test, you can also use the *Coefficient of Determination* (a.k.a. *r squared score*). This method does not simply tell *yes* or *no* about the model fit but instead indicates how much variation can be explained by the model. Based on the r squared score, you can decide whether to improve your model in order to obtain a better fit.\n",
    "\n",
    "You can learn about the r squared score [here](). Its formula is:\n",
    "\n",
    "![R Squared](../r-squared.png)\n",
    "\n",
    "...where:\n",
    "\n",
    "* yi is an actual data point.\n",
    "* ŷi is the corresponding data point on the estimated regression line.\n",
    "\n",
    "By adding the squares of the difference between all yi-ŷi pairs, we have a measure called SSE (*error sum of squares*) which is an application of the r squared score to indicate the extent to which the estimated regression model is different from the actual data. And we attribute that difference to the random error that is unavoidable in the real world. Obviously, we want the SSE value to be as small as possible.\n",
    "\n",
    "#### In the next cell, compute the predicted *y* based on `X_train` and call it `y_pred`. Then calcualte the r squared score between `y_pred` and `y_train` which indicates how well the estimated regression model fits the training data.\n",
    "\n",
    "*Hint: r squared score can be calculated using `sklearn.metrics.r2_score` ([documentation](https://scikit-learn.org/stable/modules/generated/sklearn.metrics.r2_score.html)).*"
   ]
  },
  {
   "cell_type": "code",
   "execution_count": 152,
   "metadata": {},
   "outputs": [],
   "source": [
    "# Your code here:\n",
    "y_pred = auto_model.predict(X_train)"
   ]
  },
  {
   "cell_type": "code",
   "execution_count": 153,
   "metadata": {},
   "outputs": [
    {
     "data": {
      "text/plain": [
       "0.8088490656511089"
      ]
     },
     "execution_count": 153,
     "metadata": {},
     "output_type": "execute_result"
    }
   ],
   "source": [
    "from sklearn.metrics import r2_score\n",
    "\n",
    "r2_score(y_train, y_pred)"
   ]
  },
  {
   "cell_type": "markdown",
   "metadata": {},
   "source": [
    "#### Our next step is to evaluate the model using the test data. \n",
    "\n",
    "We would like to ensure that our model is not overfitting the data. This means that our model was made to fit too closely to the training data by being overly complex. If a model is overfitted, it is not generalizable to data outside the training data. In that case, we need to reduce the complexity of the model by removing certain features (variables).\n",
    "\n",
    "In the cell below, use the model to generate the predicted values for the test data and assign them to `y_test_pred`. Compute the r squared score of the predicted `y_test_pred` and the oberserved `y_test` data."
   ]
  },
  {
   "cell_type": "code",
   "execution_count": 154,
   "metadata": {},
   "outputs": [
    {
     "name": "stdout",
     "output_type": "stream",
     "text": [
      "0.8088938602131773\n",
      "0.8088938602131773\n"
     ]
    }
   ],
   "source": [
    "# Your code here:\n",
    "y_pred_test = auto_model.predict(X_test)\n",
    "print(r2_score(y_test, y_pred_test))\n",
    "print(auto_model.score(X_test, y_test))"
   ]
  },
  {
   "cell_type": "markdown",
   "metadata": {},
   "source": [
    "#### Explaining the results\n",
    "\n",
    "The r squared scores of the training data and the test data are pretty close (0.8146 vs 0.7818). This means our model is not overfitted. However, there is still room to improve the model fit. Move on to the next challenge."
   ]
  },
  {
   "cell_type": "markdown",
   "metadata": {},
   "source": [
    "# Challenge 5 - Improve the Model Fit\n",
    "\n",
    "While the most common way to improve the fit of a model is by using [regularization](https://datanice.github.io/machine-learning-101-what-is-regularization-interactive.html), there are other simpler ways to improve model fit. The first is to create a simpler model. The second is to increase the train sample size.\n",
    "\n",
    "Let us start with the easier option and increase our train sample size to 90% of the data. Create a new test train split and name the new predictors and response variables `X_train09`, `X_test09`, `y_train09`, `y_test09`."
   ]
  },
  {
   "cell_type": "code",
   "execution_count": 155,
   "metadata": {},
   "outputs": [],
   "source": [
    "# Your code here:\n",
    "X = auto.drop(columns='mpg')\n",
    "y = auto.mpg\n",
    "\n",
    "X_train, X_test, y_train, y_test = train_test_split(\n",
    "                                        X.values.reshape(-1,6),\n",
    "                                        y.values.reshape(-1,1),\n",
    "                                        train_size   = 0.9,\n",
    "                                        random_state = 0,\n",
    "                                        shuffle      = True\n",
    "                                    )"
   ]
  },
  {
   "cell_type": "markdown",
   "metadata": {},
   "source": [
    "Initialize a new linear regression model. Name this model `auto_model09`. Fit the model to the new sample (training) data."
   ]
  },
  {
   "cell_type": "code",
   "execution_count": 156,
   "metadata": {},
   "outputs": [
    {
     "data": {
      "text/plain": [
       "LinearRegression()"
      ]
     },
     "execution_count": 156,
     "metadata": {},
     "output_type": "execute_result"
    }
   ],
   "source": [
    "# Your code here:\n",
    "auto_model09 = LinearRegression()\n",
    "auto_model09.fit(X_train, y_train)"
   ]
  },
  {
   "cell_type": "markdown",
   "metadata": {},
   "source": [
    "Compute the predicted values and r squared score for our new model and new sample data."
   ]
  },
  {
   "cell_type": "code",
   "execution_count": 157,
   "metadata": {},
   "outputs": [
    {
     "data": {
      "text/plain": [
       "0.8102752620591411"
      ]
     },
     "execution_count": 157,
     "metadata": {},
     "output_type": "execute_result"
    }
   ],
   "source": [
    "# Your code here:\n",
    "pred =auto_model09.predict(X_train)\n",
    "r2_score(y_train,pred )"
   ]
  },
  {
   "cell_type": "markdown",
   "metadata": {},
   "source": [
    "Compute the r squared score for the smaller test set. Is there an improvement in the test r squared?"
   ]
  },
  {
   "cell_type": "code",
   "execution_count": 158,
   "metadata": {},
   "outputs": [
    {
     "data": {
      "text/plain": [
       "0.7971768846093387"
      ]
     },
     "execution_count": 158,
     "metadata": {},
     "output_type": "execute_result"
    }
   ],
   "source": [
    "# Your code here:\n",
    "pred =auto_model09.predict(X_test)\n",
    "r2_score(y_test,pred )"
   ]
  },
  {
   "cell_type": "markdown",
   "metadata": {},
   "source": [
    "# Bonus Challenge 2 - Backward Elimination \n",
    "\n",
    "The main way to produce a simpler linear regression model is to reduce the number of variables used in the model. In scikit-learn, we can do this by using recursive feature elimination. You can read more about RFE [here](https://scikit-learn.org/stable/modules/generated/sklearn.feature_selection.RFE.html).\n",
    "\n",
    "In the next cell, we will import RFE"
   ]
  },
  {
   "cell_type": "code",
   "execution_count": 159,
   "metadata": {},
   "outputs": [],
   "source": [
    "from sklearn.feature_selection import RFE"
   ]
  },
  {
   "cell_type": "markdown",
   "metadata": {},
   "source": [
    "Follow the documentation and initialize an RFE model using the `auto_model` linear regression model. Set `n_features_to_select=3`"
   ]
  },
  {
   "cell_type": "code",
   "execution_count": 160,
   "metadata": {},
   "outputs": [],
   "source": [
    "# Your code here:\n",
    "selector = RFE(auto_model, n_features_to_select=3 )"
   ]
  },
  {
   "cell_type": "markdown",
   "metadata": {},
   "source": [
    "Fit the model and print the ranking"
   ]
  },
  {
   "cell_type": "code",
   "execution_count": 161,
   "metadata": {},
   "outputs": [
    {
     "data": {
      "text/plain": [
       "array([1, 2, 4, 3, 1, 1])"
      ]
     },
     "execution_count": 161,
     "metadata": {},
     "output_type": "execute_result"
    }
   ],
   "source": [
    "# Your code here:\n",
    "selector = selector.fit(X, y)\n",
    "selector.ranking_"
   ]
  },
  {
   "cell_type": "markdown",
   "metadata": {},
   "source": [
    "Feature importance is ranked from most important (1) to least important (4). Generate a model with the three most important features. The features correspond to variable names. For example, feature 1 is `cylinders` and feature 2 is `displacement`.\n",
    "\n",
    "Perform a test-train split on this reduced column data and call the split data `X_train_reduced`, `X_test_reduced`, `y_test_reduced`, `y_train_reduced`. Use an 80% split."
   ]
  },
  {
   "cell_type": "code",
   "execution_count": 176,
   "metadata": {},
   "outputs": [],
   "source": [
    "# Your code here:\n",
    "X = auto[['cylinders',\n",
    "          'displacement', \n",
    "          'acceleration',\n",
    "          'model_year']]\n",
    "y = auto.mpg\n",
    "\n",
    "X_train, X_test, y_train, y_test = train_test_split(\n",
    "                                        X.values.reshape(-1,len(X.columns)),\n",
    "                                        y.values.reshape(-1,1),\n",
    "                                        train_size   = 0.8,\n",
    "                                        random_state = 0,\n",
    "                                        shuffle      = True\n",
    "                                    )"
   ]
  },
  {
   "cell_type": "code",
   "execution_count": 177,
   "metadata": {},
   "outputs": [
    {
     "data": {
      "text/plain": [
       "(array([[  8. , 307. ,  12. ,  70. ],\n",
       "        [  8. , 350. ,  11.5,  70. ],\n",
       "        [  8. , 318. ,  11. ,  70. ],\n",
       "        ...,\n",
       "        [  4. , 135. ,  11.6,  82. ],\n",
       "        [  4. , 120. ,  18.6,  82. ],\n",
       "        [  4. , 119. ,  19.4,  82. ]]),\n",
       " array([[18. ],\n",
       "        [15. ],\n",
       "        [18. ],\n",
       "        [16. ],\n",
       "        [17. ],\n",
       "        [15. ],\n",
       "        [14. ],\n",
       "        [14. ],\n",
       "        [14. ],\n",
       "        [15. ],\n",
       "        [15. ],\n",
       "        [14. ],\n",
       "        [15. ],\n",
       "        [14. ],\n",
       "        [24. ],\n",
       "        [22. ],\n",
       "        [18. ],\n",
       "        [21. ],\n",
       "        [27. ],\n",
       "        [26. ],\n",
       "        [25. ],\n",
       "        [24. ],\n",
       "        [25. ],\n",
       "        [26. ],\n",
       "        [21. ],\n",
       "        [10. ],\n",
       "        [10. ],\n",
       "        [11. ],\n",
       "        [ 9. ],\n",
       "        [27. ],\n",
       "        [28. ],\n",
       "        [25. ],\n",
       "        [19. ],\n",
       "        [16. ],\n",
       "        [17. ],\n",
       "        [19. ],\n",
       "        [18. ],\n",
       "        [14. ],\n",
       "        [14. ],\n",
       "        [14. ],\n",
       "        [14. ],\n",
       "        [12. ],\n",
       "        [13. ],\n",
       "        [13. ],\n",
       "        [18. ],\n",
       "        [22. ],\n",
       "        [19. ],\n",
       "        [18. ],\n",
       "        [23. ],\n",
       "        [28. ],\n",
       "        [30. ],\n",
       "        [30. ],\n",
       "        [31. ],\n",
       "        [35. ],\n",
       "        [27. ],\n",
       "        [26. ],\n",
       "        [24. ],\n",
       "        [25. ],\n",
       "        [23. ],\n",
       "        [20. ],\n",
       "        [21. ],\n",
       "        [13. ],\n",
       "        [14. ],\n",
       "        [15. ],\n",
       "        [14. ],\n",
       "        [17. ],\n",
       "        [11. ],\n",
       "        [13. ],\n",
       "        [12. ],\n",
       "        [13. ],\n",
       "        [19. ],\n",
       "        [15. ],\n",
       "        [13. ],\n",
       "        [13. ],\n",
       "        [14. ],\n",
       "        [18. ],\n",
       "        [22. ],\n",
       "        [21. ],\n",
       "        [26. ],\n",
       "        [22. ],\n",
       "        [28. ],\n",
       "        [23. ],\n",
       "        [28. ],\n",
       "        [27. ],\n",
       "        [13. ],\n",
       "        [14. ],\n",
       "        [13. ],\n",
       "        [14. ],\n",
       "        [15. ],\n",
       "        [12. ],\n",
       "        [13. ],\n",
       "        [13. ],\n",
       "        [14. ],\n",
       "        [13. ],\n",
       "        [12. ],\n",
       "        [13. ],\n",
       "        [18. ],\n",
       "        [16. ],\n",
       "        [18. ],\n",
       "        [18. ],\n",
       "        [23. ],\n",
       "        [26. ],\n",
       "        [11. ],\n",
       "        [12. ],\n",
       "        [13. ],\n",
       "        [12. ],\n",
       "        [18. ],\n",
       "        [20. ],\n",
       "        [21. ],\n",
       "        [22. ],\n",
       "        [18. ],\n",
       "        [19. ],\n",
       "        [21. ],\n",
       "        [26. ],\n",
       "        [15. ],\n",
       "        [16. ],\n",
       "        [29. ],\n",
       "        [24. ],\n",
       "        [20. ],\n",
       "        [19. ],\n",
       "        [15. ],\n",
       "        [24. ],\n",
       "        [20. ],\n",
       "        [11. ],\n",
       "        [20. ],\n",
       "        [19. ],\n",
       "        [15. ],\n",
       "        [31. ],\n",
       "        [26. ],\n",
       "        [32. ],\n",
       "        [25. ],\n",
       "        [16. ],\n",
       "        [16. ],\n",
       "        [18. ],\n",
       "        [16. ],\n",
       "        [13. ],\n",
       "        [14. ],\n",
       "        [14. ],\n",
       "        [14. ],\n",
       "        [29. ],\n",
       "        [26. ],\n",
       "        [26. ],\n",
       "        [31. ],\n",
       "        [32. ],\n",
       "        [28. ],\n",
       "        [24. ],\n",
       "        [26. ],\n",
       "        [24. ],\n",
       "        [26. ],\n",
       "        [31. ],\n",
       "        [19. ],\n",
       "        [18. ],\n",
       "        [15. ],\n",
       "        [15. ],\n",
       "        [16. ],\n",
       "        [15. ],\n",
       "        [16. ],\n",
       "        [14. ],\n",
       "        [17. ],\n",
       "        [16. ],\n",
       "        [15. ],\n",
       "        [18. ],\n",
       "        [21. ],\n",
       "        [20. ],\n",
       "        [13. ],\n",
       "        [29. ],\n",
       "        [23. ],\n",
       "        [20. ],\n",
       "        [23. ],\n",
       "        [24. ],\n",
       "        [25. ],\n",
       "        [24. ],\n",
       "        [18. ],\n",
       "        [29. ],\n",
       "        [19. ],\n",
       "        [23. ],\n",
       "        [23. ],\n",
       "        [22. ],\n",
       "        [25. ],\n",
       "        [33. ],\n",
       "        [28. ],\n",
       "        [25. ],\n",
       "        [25. ],\n",
       "        [26. ],\n",
       "        [27. ],\n",
       "        [17.5],\n",
       "        [16. ],\n",
       "        [15.5],\n",
       "        [14.5],\n",
       "        [22. ],\n",
       "        [22. ],\n",
       "        [24. ],\n",
       "        [22.5],\n",
       "        [29. ],\n",
       "        [24.5],\n",
       "        [29. ],\n",
       "        [33. ],\n",
       "        [20. ],\n",
       "        [18. ],\n",
       "        [18.5],\n",
       "        [17.5],\n",
       "        [29.5],\n",
       "        [32. ],\n",
       "        [28. ],\n",
       "        [26.5],\n",
       "        [20. ],\n",
       "        [13. ],\n",
       "        [19. ],\n",
       "        [19. ],\n",
       "        [16.5],\n",
       "        [16.5],\n",
       "        [13. ],\n",
       "        [13. ],\n",
       "        [13. ],\n",
       "        [31.5],\n",
       "        [30. ],\n",
       "        [36. ],\n",
       "        [25.5],\n",
       "        [33.5],\n",
       "        [17.5],\n",
       "        [17. ],\n",
       "        [15.5],\n",
       "        [15. ],\n",
       "        [17.5],\n",
       "        [20.5],\n",
       "        [19. ],\n",
       "        [18.5],\n",
       "        [16. ],\n",
       "        [15.5],\n",
       "        [15.5],\n",
       "        [16. ],\n",
       "        [29. ],\n",
       "        [24.5],\n",
       "        [26. ],\n",
       "        [25.5],\n",
       "        [30.5],\n",
       "        [33.5],\n",
       "        [30. ],\n",
       "        [30.5],\n",
       "        [22. ],\n",
       "        [21.5],\n",
       "        [21.5],\n",
       "        [43.1],\n",
       "        [36.1],\n",
       "        [32.8],\n",
       "        [39.4],\n",
       "        [36.1],\n",
       "        [19.9],\n",
       "        [19.4],\n",
       "        [20.2],\n",
       "        [19.2],\n",
       "        [20.5],\n",
       "        [20.2],\n",
       "        [25.1],\n",
       "        [20.5],\n",
       "        [19.4],\n",
       "        [20.6],\n",
       "        [20.8],\n",
       "        [18.6],\n",
       "        [18.1],\n",
       "        [19.2],\n",
       "        [17.7],\n",
       "        [18.1],\n",
       "        [17.5],\n",
       "        [30. ],\n",
       "        [27.5],\n",
       "        [27.2],\n",
       "        [30.9],\n",
       "        [21.1],\n",
       "        [23.2],\n",
       "        [23.8],\n",
       "        [23.9],\n",
       "        [20.3],\n",
       "        [17. ],\n",
       "        [21.6],\n",
       "        [16.2],\n",
       "        [31.5],\n",
       "        [29.5],\n",
       "        [21.5],\n",
       "        [19.8],\n",
       "        [22.3],\n",
       "        [20.2],\n",
       "        [20.6],\n",
       "        [17. ],\n",
       "        [17.6],\n",
       "        [16.5],\n",
       "        [18.2],\n",
       "        [16.9],\n",
       "        [15.5],\n",
       "        [19.2],\n",
       "        [18.5],\n",
       "        [31.9],\n",
       "        [34.1],\n",
       "        [35.7],\n",
       "        [27.4],\n",
       "        [25.4],\n",
       "        [23. ],\n",
       "        [27.2],\n",
       "        [23.9],\n",
       "        [34.2],\n",
       "        [34.5],\n",
       "        [31.8],\n",
       "        [37.3],\n",
       "        [28.4],\n",
       "        [28.8],\n",
       "        [26.8],\n",
       "        [33.5],\n",
       "        [41.5],\n",
       "        [38.1],\n",
       "        [32.1],\n",
       "        [37.2],\n",
       "        [28. ],\n",
       "        [26.4],\n",
       "        [24.3],\n",
       "        [19.1],\n",
       "        [34.3],\n",
       "        [29.8],\n",
       "        [31.3],\n",
       "        [37. ],\n",
       "        [32.2],\n",
       "        [46.6],\n",
       "        [27.9],\n",
       "        [40.8],\n",
       "        [44.3],\n",
       "        [43.4],\n",
       "        [36.4],\n",
       "        [30. ],\n",
       "        [44.6],\n",
       "        [33.8],\n",
       "        [29.8],\n",
       "        [32.7],\n",
       "        [23.7],\n",
       "        [35. ],\n",
       "        [32.4],\n",
       "        [27.2],\n",
       "        [26.6],\n",
       "        [25.8],\n",
       "        [23.5],\n",
       "        [30. ],\n",
       "        [39.1],\n",
       "        [39. ],\n",
       "        [35.1],\n",
       "        [32.3],\n",
       "        [37. ],\n",
       "        [37.7],\n",
       "        [34.1],\n",
       "        [34.7],\n",
       "        [34.4],\n",
       "        [29.9],\n",
       "        [33. ],\n",
       "        [33.7],\n",
       "        [32.4],\n",
       "        [32.9],\n",
       "        [31.6],\n",
       "        [28.1],\n",
       "        [30.7],\n",
       "        [25.4],\n",
       "        [24.2],\n",
       "        [22.4],\n",
       "        [26.6],\n",
       "        [20.2],\n",
       "        [17.6],\n",
       "        [28. ],\n",
       "        [27. ],\n",
       "        [34. ],\n",
       "        [31. ],\n",
       "        [29. ],\n",
       "        [27. ],\n",
       "        [24. ],\n",
       "        [36. ],\n",
       "        [37. ],\n",
       "        [31. ],\n",
       "        [38. ],\n",
       "        [36. ],\n",
       "        [36. ],\n",
       "        [36. ],\n",
       "        [34. ],\n",
       "        [38. ],\n",
       "        [32. ],\n",
       "        [38. ],\n",
       "        [25. ],\n",
       "        [38. ],\n",
       "        [26. ],\n",
       "        [22. ],\n",
       "        [32. ],\n",
       "        [36. ],\n",
       "        [27. ],\n",
       "        [27. ],\n",
       "        [44. ],\n",
       "        [32. ],\n",
       "        [28. ],\n",
       "        [31. ]]))"
      ]
     },
     "execution_count": 177,
     "metadata": {},
     "output_type": "execute_result"
    }
   ],
   "source": [
    " X.values.reshape(-1,len(X.columns)), y.values.reshape(-1,1)"
   ]
  },
  {
   "cell_type": "markdown",
   "metadata": {},
   "source": [
    "Generate a new model called `auto_model_reduced` and fit this model. Then proceed to compute the r squared score for the model. Did this cause an improvement in the r squared score?"
   ]
  },
  {
   "cell_type": "code",
   "execution_count": 178,
   "metadata": {},
   "outputs": [
    {
     "data": {
      "text/plain": [
       "0.7383632089042257"
      ]
     },
     "execution_count": 178,
     "metadata": {},
     "output_type": "execute_result"
    }
   ],
   "source": [
    "# Your code here: \n",
    "auto_model_reduced= LinearRegression()\n",
    "auto_model_reduced.fit(X_train, y_train)\n",
    "\n",
    "pred_reduced = auto_model_reduced.predict(X_train)\n",
    "\n",
    "r2_score(y_train, pred_reduced)"
   ]
  },
  {
   "cell_type": "markdown",
   "metadata": {},
   "source": [
    "#### Conclusion\n",
    "\n",
    "You may obtain the impression from this lab that without knowing statistical methods in depth, it is difficult to make major progress in machine learning. That is correct. If you are motivated to become a data scientist, statistics is the subject you must be proficient in and there is no shortcut. \n",
    "\n",
    "Completing these labs is not likely to make you a data scientist. But you will have a good sense about what are there in machine learning and what are good for you. In your future career, you can choose one of the three tracks:\n",
    "\n",
    "* Data scientists who need to be proficient in statistical methods.\n",
    "\n",
    "* Data engineers who need to be good at programming.\n",
    "\n",
    "* Data integration specialists who are business or content experts but also understand data and programming. This cross-disciplinary track brings together data, technology, and business and will be in high demands in the next decade."
   ]
  },
  {
   "cell_type": "code",
   "execution_count": null,
   "metadata": {},
   "outputs": [],
   "source": []
  }
 ],
 "metadata": {
  "kernelspec": {
   "display_name": "Python 3 (ipykernel)",
   "language": "python",
   "name": "python3"
  },
  "language_info": {
   "codemirror_mode": {
    "name": "ipython",
    "version": 3
   },
   "file_extension": ".py",
   "mimetype": "text/x-python",
   "name": "python",
   "nbconvert_exporter": "python",
   "pygments_lexer": "ipython3",
   "version": "3.9.6"
  }
 },
 "nbformat": 4,
 "nbformat_minor": 2
}
