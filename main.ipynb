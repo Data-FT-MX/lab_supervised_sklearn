{
  "nbformat": 4,
  "nbformat_minor": 0,
  "metadata": {
    "kernelspec": {
      "display_name": "Python 3",
      "language": "python",
      "name": "python3"
    },
    "language_info": {
      "codemirror_mode": {
        "name": "ipython",
        "version": 3
      },
      "file_extension": ".py",
      "mimetype": "text/x-python",
      "name": "python",
      "nbconvert_exporter": "python",
      "pygments_lexer": "ipython3",
      "version": "3.6.6"
    },
    "colab": {
      "name": "main.ipynb",
      "provenance": [],
      "collapsed_sections": [
        "tF42mUk5phFH",
        "HSnOpiDqphFM"
      ],
      "include_colab_link": true
    }
  },
  "cells": [
    {
      "cell_type": "markdown",
      "metadata": {
        "id": "view-in-github",
        "colab_type": "text"
      },
      "source": [
        "<a href=\"https://colab.research.google.com/github/juanmanuelvillacis/lab_supervised_sklearn/blob/master/main.ipynb\" target=\"_parent\"><img src=\"https://colab.research.google.com/assets/colab-badge.svg\" alt=\"Open In Colab\"/></a>"
      ]
    },
    {
      "cell_type": "markdown",
      "metadata": {
        "id": "J7o63NJAphEV"
      },
      "source": [
        "# Before your start:\n",
        "- Read the README.md file\n",
        "- Comment as much as you can and use the resources in the README.md file\n",
        "- Happy learning!"
      ]
    },
    {
      "cell_type": "code",
      "metadata": {
        "id": "XzbrmVLyphEj"
      },
      "source": [
        "# Import your libraries:\n",
        "import pandas as pd\n",
        "import numpy as np\n",
        "\n",
        "import seaborn as sns\n",
        "\n",
        "from sklearn.linear_model import LogisticRegression\n",
        "from sklearn.model_selection import train_test_split\n",
        "from sklearn.datasets import load_diabetes"
      ],
      "execution_count": 5,
      "outputs": []
    },
    {
      "cell_type": "markdown",
      "metadata": {
        "id": "cytkBVRfphEn"
      },
      "source": [
        "# Challenge 1 - Explore the Scikit-Learn Datasets\n",
        "\n",
        "Before starting to work on our own datasets, let's first explore the datasets that are included in this Python library. These datasets have been cleaned and formatted for use in ML algorithms."
      ]
    },
    {
      "cell_type": "markdown",
      "metadata": {
        "id": "0eqoW_NnphEo"
      },
      "source": [
        "First, we will load the diabetes dataset. Do this in the cell below by importing the datasets and then loading the dataset  to the `diabetes` variable using the `load_diabetes()` function ([documentation](https://scikit-learn.org/stable/modules/generated/sklearn.datasets.load_diabetes.html))."
      ]
    },
    {
      "cell_type": "code",
      "metadata": {
        "id": "8tdd3SZMphEp"
      },
      "source": [
        "# Your code here:\n",
        "diabetes= load_diabetes()"
      ],
      "execution_count": 15,
      "outputs": []
    },
    {
      "cell_type": "code",
      "metadata": {
        "colab": {
          "base_uri": "https://localhost:8080/"
        },
        "id": "UCtu2OPYq5zI",
        "outputId": "9d6cf898-f8e9-4734-fe7c-2cf61d49564f"
      },
      "source": [
        ""
      ],
      "execution_count": 17,
      "outputs": [
        {
          "output_type": "stream",
          "name": "stdout",
          "text": [
            "<built-in method keys of Bunch object at 0x7f71ba95db90>\n"
          ]
        }
      ]
    },
    {
      "cell_type": "markdown",
      "metadata": {
        "id": "ryKPMYr_phEq"
      },
      "source": [
        "Let's explore this variable by looking at the different attributes (keys) of `diabetes`. Note that the `load_diabetes` function does not return dataframes. It returns you a Python dictionary."
      ]
    },
    {
      "cell_type": "code",
      "metadata": {
        "id": "-z20-KmjphEq"
      },
      "source": [
        "# Your code here:\n",
        "diabetes.target"
      ],
      "execution_count": null,
      "outputs": []
    },
    {
      "cell_type": "markdown",
      "metadata": {
        "id": "SVyFo4g_phEs"
      },
      "source": [
        "#### The next step is to read the description of the dataset. \n",
        "\n",
        "Print the description in the cell below using the `DESCR` attribute of the `diabetes` variable. Read the data description carefully to fully understand what each column represents.\n",
        "\n",
        "*Hint: If your output is ill-formatted by displaying linebreaks as `\\n`, it means you are not using the `print` function.*"
      ]
    },
    {
      "cell_type": "code",
      "metadata": {
        "scrolled": false,
        "colab": {
          "base_uri": "https://localhost:8080/"
        },
        "id": "ln6lZ2zfphEt",
        "outputId": "bb1766d9-e521-4179-dac3-2828a77fe96a"
      },
      "source": [
        "# Your code here:\n",
        "print(diabetes.DESCR)"
      ],
      "execution_count": 21,
      "outputs": [
        {
          "output_type": "stream",
          "name": "stdout",
          "text": [
            ".. _diabetes_dataset:\n",
            "\n",
            "Diabetes dataset\n",
            "----------------\n",
            "\n",
            "Ten baseline variables, age, sex, body mass index, average blood\n",
            "pressure, and six blood serum measurements were obtained for each of n =\n",
            "442 diabetes patients, as well as the response of interest, a\n",
            "quantitative measure of disease progression one year after baseline.\n",
            "\n",
            "**Data Set Characteristics:**\n",
            "\n",
            "  :Number of Instances: 442\n",
            "\n",
            "  :Number of Attributes: First 10 columns are numeric predictive values\n",
            "\n",
            "  :Target: Column 11 is a quantitative measure of disease progression one year after baseline\n",
            "\n",
            "  :Attribute Information:\n",
            "      - Age\n",
            "      - Sex\n",
            "      - Body mass index\n",
            "      - Average blood pressure\n",
            "      - S1\n",
            "      - S2\n",
            "      - S3\n",
            "      - S4\n",
            "      - S5\n",
            "      - S6\n",
            "\n",
            "Note: Each of these 10 feature variables have been mean centered and scaled by the standard deviation times `n_samples` (i.e. the sum of squares of each column totals 1).\n",
            "\n",
            "Source URL:\n",
            "https://www4.stat.ncsu.edu/~boos/var.select/diabetes.html\n",
            "\n",
            "For more information see:\n",
            "Bradley Efron, Trevor Hastie, Iain Johnstone and Robert Tibshirani (2004) \"Least Angle Regression,\" Annals of Statistics (with discussion), 407-499.\n",
            "(https://web.stanford.edu/~hastie/Papers/LARS/LeastAngle_2002.pdf)\n"
          ]
        }
      ]
    },
    {
      "cell_type": "markdown",
      "metadata": {
        "id": "YahqITe9phEu"
      },
      "source": [
        "#### Based on the data description, answer the following questions:\n",
        "\n",
        "1. How many attributes are there in the data? What do they mean?\n",
        "\n",
        "1. What is the relation between `diabetes['data']` and `diabetes['target']`?\n",
        "\n",
        "1. How many records are there in the data?"
      ]
    },
    {
      "cell_type": "code",
      "metadata": {
        "id": "ptSdzYLpphEv"
      },
      "source": [
        "# Enter your answer here:\n",
        "'''\n",
        "there are 10 attributes shown as columns of the data base\n",
        "\n",
        "the relation between diabetes [data] and diabetes [target] is that the first one are the independent variables and the last one is the dependent variable\n",
        "wich the model will forecast the data\n",
        "\n",
        "There are 442 rows or recrods in the data\n",
        "'''"
      ],
      "execution_count": null,
      "outputs": []
    },
    {
      "cell_type": "markdown",
      "metadata": {
        "id": "k-EgQ5vZphEw"
      },
      "source": [
        "#### Now explore what are contained in the *data* portion as well as the *target* portion of `diabetes`. \n",
        "\n",
        "Scikit-learn typically takes in 2D numpy arrays as input (though pandas dataframes are also accepted). Inspect the shape of `data` and `target`. Confirm they are consistent with the data description."
      ]
    },
    {
      "cell_type": "code",
      "metadata": {
        "colab": {
          "base_uri": "https://localhost:8080/"
        },
        "id": "9ysB5Xh0phEx",
        "outputId": "de75eb5c-df6d-4f2c-f5d3-ffdaf189a935"
      },
      "source": [
        "# Your code here:\n",
        "np.shape(diabetes.data) , np.shape(diabetes.target)"
      ],
      "execution_count": 38,
      "outputs": [
        {
          "output_type": "execute_result",
          "data": {
            "text/plain": [
              "((442, 10), (442,))"
            ]
          },
          "metadata": {},
          "execution_count": 38
        }
      ]
    },
    {
      "cell_type": "markdown",
      "metadata": {
        "id": "b9memWtPphEx"
      },
      "source": [
        "# Challenge 2 - Perform Supervised Learning on the Dataset"
      ]
    },
    {
      "cell_type": "markdown",
      "metadata": {
        "id": "xGBn8lBEphEy"
      },
      "source": [
        "The data have already been split to predictor (*data*) and response (*target*) variables. Given this information, we'll apply what we have previously learned about linear regression and apply the algorithm to the diabetes dataset.\n",
        "\n",
        "#### Let's briefly revisit the linear regression formula:\n",
        "\n",
        "```\n",
        "y = β0 + β1X1 + β2X2 + ... + βnXn + ϵ\n",
        "```\n",
        "\n",
        "...where:\n",
        "\n",
        "- X1-Xn: data \n",
        "- β0: intercept \n",
        "- β1-βn: coefficients \n",
        "- ϵ: error (cannot explained by model)\n",
        "- y: target\n",
        "\n",
        "Also take a look at the `sklearn.linear_model.LinearRegression` [documentation](https://scikit-learn.org/stable/modules/generated/sklearn.linear_model.LinearRegression.html).\n",
        "\n",
        "#### In the cell below, import the `linear_model` class from `sklearn`. "
      ]
    },
    {
      "cell_type": "code",
      "metadata": {
        "id": "b7bJPVzRphEz"
      },
      "source": [
        "# Your code here:\n",
        "from sklearn import linear_model"
      ],
      "execution_count": 40,
      "outputs": []
    },
    {
      "cell_type": "markdown",
      "metadata": {
        "id": "Z9QW_76dphE0"
      },
      "source": [
        "#### Create a new instance of the linear regression model and assign the new instance to the variable `diabetes_model`."
      ]
    },
    {
      "cell_type": "code",
      "metadata": {
        "id": "OL5lAqLKphE0"
      },
      "source": [
        "# Your code here:\n",
        "diabete_model = linear_model.LinearRegression()"
      ],
      "execution_count": 43,
      "outputs": []
    },
    {
      "cell_type": "markdown",
      "metadata": {
        "id": "-av1sTTuphE1"
      },
      "source": [
        "#### Next, let's split the training and test data.\n",
        "\n",
        "Define `diabetes_data_train`, `diabetes_target_train`, `diabetes_data_test`, and `diabetes_target_test`. Use the last 20 records for the test data and the rest for the training data."
      ]
    },
    {
      "cell_type": "code",
      "metadata": {
        "id": "qe-qyRJYphE2"
      },
      "source": [
        "# Your code here:\n",
        "diabetes_data_train = diabetes.data[0:-20]\n",
        "diabetes_target_train = diabetes.target[0:-20]\n",
        "diabetes_data_test = diabetes.data[-20:]\n",
        "diabetes_target_test = diabetes.target[-20:]"
      ],
      "execution_count": 47,
      "outputs": []
    },
    {
      "cell_type": "markdown",
      "metadata": {
        "id": "woMh215TphE3"
      },
      "source": [
        "Fit the training data and target to `diabetes_model`. Print the *intercept* and *coefficients* of the model."
      ]
    },
    {
      "cell_type": "code",
      "metadata": {
        "colab": {
          "base_uri": "https://localhost:8080/"
        },
        "id": "h247Yg6JphE4",
        "outputId": "1bcffac4-e988-48de-888b-3b4a7cf114b3"
      },
      "source": [
        "# Your code here:\n",
        "diabete_model.fit(diabetes_data_train,diabetes_target_train)\n",
        "diabete_model.intercept_ , diabete_model.coef_"
      ],
      "execution_count": 50,
      "outputs": [
        {
          "output_type": "execute_result",
          "data": {
            "text/plain": [
              "(152.76430691633442,\n",
              " array([ 3.03499549e-01, -2.37639315e+02,  5.10530605e+02,  3.27736980e+02,\n",
              "        -8.14131709e+02,  4.92814588e+02,  1.02848452e+02,  1.84606489e+02,\n",
              "         7.43519617e+02,  7.60951722e+01]))"
            ]
          },
          "metadata": {},
          "execution_count": 50
        }
      ]
    },
    {
      "cell_type": "markdown",
      "metadata": {
        "id": "s2sgChchphE5"
      },
      "source": [
        "#### Inspecting the results\n",
        "\n",
        "From the outputs you should have seen:\n",
        "\n",
        "- The intercept is a float number.\n",
        "- The coefficients are an array containing 10 float numbers.\n",
        "\n",
        "This is the linear regression model fitted to your training dataset.\n",
        "\n",
        "#### Using your fitted linear regression model, predict the *y* of `diabetes_data_test`."
      ]
    },
    {
      "cell_type": "code",
      "metadata": {
        "colab": {
          "base_uri": "https://localhost:8080/"
        },
        "id": "OfQKKEpxphE5",
        "outputId": "a671dae6-f632-44e2-ab62-a93047156a9b"
      },
      "source": [
        "# Your code here:\n",
        "diabete_model.predict(diabetes_data_test)"
      ],
      "execution_count": 51,
      "outputs": [
        {
          "output_type": "execute_result",
          "data": {
            "text/plain": [
              "array([197.61846908, 155.43979328, 172.88665147, 111.53537279,\n",
              "       164.80054784, 131.06954875, 259.12237761, 100.47935157,\n",
              "       117.0601052 , 124.30503555, 218.36632793,  61.19831284,\n",
              "       132.25046751, 120.3332925 ,  52.54458691, 194.03798088,\n",
              "       102.57139702, 123.56604987, 211.0346317 ,  52.60335674])"
            ]
          },
          "metadata": {},
          "execution_count": 51
        }
      ]
    },
    {
      "cell_type": "markdown",
      "metadata": {
        "id": "-siXlzTvphE6"
      },
      "source": [
        "#### Print your `diabetes_target_test` and compare with the prediction. "
      ]
    },
    {
      "cell_type": "code",
      "metadata": {
        "colab": {
          "base_uri": "https://localhost:8080/"
        },
        "id": "j3jtKokCphE6",
        "outputId": "99899525-bc18-4679-a67f-5929b55e655d"
      },
      "source": [
        "# Your code here:\n",
        "np.subtract(diabetes_target_test,diabete_model.predict(diabetes_data_test))"
      ],
      "execution_count": 53,
      "outputs": [
        {
          "output_type": "execute_result",
          "data": {
            "text/plain": [
              "array([ 35.38153092, -64.43979328, -61.88665147,  40.46462721,\n",
              "       -44.80054784, -64.06954875,  50.87762239,  -6.47935157,\n",
              "        65.9398948 , -58.30503555, -45.36632793,  10.80168716,\n",
              "       -83.25046751, -56.3332925 ,  -4.54458691, -16.03798088,\n",
              "         1.42860298,   8.43395013,   8.9653683 ,   4.39664326])"
            ]
          },
          "metadata": {},
          "execution_count": 53
        }
      ]
    },
    {
      "cell_type": "markdown",
      "metadata": {
        "id": "jkOgQvvOphE7"
      },
      "source": [
        "#### Is `diabetes_target_test` exactly the same as the model prediction? Explain."
      ]
    },
    {
      "cell_type": "code",
      "metadata": {
        "id": "Tqg5UM97phE7"
      },
      "source": [
        "# Your explanation here:\n",
        "# it´s not the same data predictions, the model is not 100% accurate\n"
      ],
      "execution_count": null,
      "outputs": []
    },
    {
      "cell_type": "markdown",
      "metadata": {
        "id": "BIZ20lD_phE7"
      },
      "source": [
        "# Bonus Challenge 1 - Hypothesis Testing with `statsmodels`\n",
        "\n",
        "After generating the linear regression model from the dataset, you probably wonder: then what? What is the statistical way to know if my model is reliable or not?\n",
        "\n",
        "Good question. We'll discuss that using Scikit-Learn in Challenge 5. But for now, let's use a fool-proof way by using the ([Linear Regression class of StatsModels](https://www.statsmodels.org/dev/regression.html)) which can also conduct linear regression analysis plus much more such as calcuating the F-score of the linear model as well as the standard errors and t-scores for each coefficient. The F-score and t-scores will tell you whether you can trust your linear model.\n",
        "\n",
        "To understand the statistical meaning of conducting hypothesis testing (e.g. F-test, t-test) for slopes, read [this webpage](https://onlinecourses.science.psu.edu/stat501/node/297/) at your leisure time. We'll give you a brief overview next.\n",
        "\n",
        "* The F-test of your linear model is to verify whether at least one of your coefficients is significantly different from zero. Translating that into the *null hypothesis* and *alternative hypothesis*, that is:\n",
        "\n",
        "    ```\n",
        "    H0 : β1 = β2 = ... = β10 = 0\n",
        "    HA : At least one βj ≠ 0 (for j = 1, 2, ..., 10)\n",
        "    ```\n",
        "\n",
        "* The t-tests on each coefficient is to check whether the confidence interval for the variable contains zero. If the confidence interval contains zero, it means the null hypothesis for that variable is not rejected. In other words, this particular vaiable is not contributing to your linear model and you can remove it from your formula.\n",
        "\n",
        "Read the documentations of [StatsModels Linear Regression](https://www.statsmodels.org/dev/regression.html) as well as its [`OLS` class](https://www.statsmodels.org/dev/generated/statsmodels.regression.linear_model.OLS.html) which stands for *ordinary least squares*.\n",
        "\n",
        "#### In the next cell, analyze `diabetes_data_train` and `diabetes_target_train` with the linear regression model of `statsmodels`. Print the fit summary.\n",
        "\n",
        "Your output should look like:\n",
        "\n",
        "![statsmodels regression](../statsmodels.png)"
      ]
    },
    {
      "cell_type": "code",
      "metadata": {
        "id": "lD5aPy6jphE9"
      },
      "source": [
        "# Your code here:\n",
        "import statsmodels.api as sm"
      ],
      "execution_count": null,
      "outputs": []
    },
    {
      "cell_type": "code",
      "metadata": {
        "colab": {
          "base_uri": "https://localhost:8080/"
        },
        "id": "8s7hASxezf3j",
        "outputId": "7084967a-7bca-4da8-863d-dd5c8f09a909"
      },
      "source": [
        "np.shape(diabetes_target_train)"
      ],
      "execution_count": 80,
      "outputs": [
        {
          "output_type": "execute_result",
          "data": {
            "text/plain": [
              "(422,)"
            ]
          },
          "metadata": {},
          "execution_count": 80
        }
      ]
    },
    {
      "cell_type": "code",
      "metadata": {
        "id": "JHHke-BHySt-"
      },
      "source": [
        "model_stats = sm.OLS(diabetes_data_train,diabetes_target_train)\n",
        "fit = model_stats.fit()\n",
        "print(fit.summary())"
      ],
      "execution_count": null,
      "outputs": []
    },
    {
      "cell_type": "markdown",
      "metadata": {
        "id": "1SyRXJwIphE9"
      },
      "source": [
        "#### Interpreting hypothesis testing results\n",
        "\n",
        "Answer the following questions in the cell below:\n",
        "\n",
        "1. What is the F-score of your linear model and is the null hypothesis rejected?\n",
        "\n",
        "1. Does any of the t-tests of the coefficients produce a confidence interval containing zero? What are they?\n",
        "\n",
        "1. How will you modify your linear reguression model according to the test results above?"
      ]
    },
    {
      "cell_type": "code",
      "metadata": {
        "id": "qbp-9m9FphE-"
      },
      "source": [
        "# Your answers here:"
      ],
      "execution_count": null,
      "outputs": []
    },
    {
      "cell_type": "markdown",
      "metadata": {
        "id": "a_kYN2L0phE-"
      },
      "source": [
        "# Challenge 3 - Peform Supervised Learning on a Pandas Dataframe"
      ]
    },
    {
      "cell_type": "markdown",
      "metadata": {
        "id": "7poBE2k2phE-"
      },
      "source": [
        "Now that we have dealt with data that has been formatted for scikit-learn, let's look at data that we will need to format ourselves.\n",
        "\n",
        "In the next cell, load the `auto-mpg.csv` file included in this folder and assign it to a variable called `auto`."
      ]
    },
    {
      "cell_type": "code",
      "metadata": {
        "colab": {
          "base_uri": "https://localhost:8080/",
          "height": 423
        },
        "id": "pvD9kdyVphE_",
        "outputId": "81014ba7-feb8-4935-a609-2c0f919095df"
      },
      "source": [
        "# Your code here:\n",
        "df = pd.read_csv('/content/drive/MyDrive/Iron Hack/LABs/csv_docs/auto-mpg.csv')\n",
        "df"
      ],
      "execution_count": 83,
      "outputs": [
        {
          "output_type": "execute_result",
          "data": {
            "text/html": [
              "<div>\n",
              "<style scoped>\n",
              "    .dataframe tbody tr th:only-of-type {\n",
              "        vertical-align: middle;\n",
              "    }\n",
              "\n",
              "    .dataframe tbody tr th {\n",
              "        vertical-align: top;\n",
              "    }\n",
              "\n",
              "    .dataframe thead th {\n",
              "        text-align: right;\n",
              "    }\n",
              "</style>\n",
              "<table border=\"1\" class=\"dataframe\">\n",
              "  <thead>\n",
              "    <tr style=\"text-align: right;\">\n",
              "      <th></th>\n",
              "      <th>mpg</th>\n",
              "      <th>cylinders</th>\n",
              "      <th>displacement</th>\n",
              "      <th>horse_power</th>\n",
              "      <th>weight</th>\n",
              "      <th>acceleration</th>\n",
              "      <th>model_year</th>\n",
              "      <th>car_name</th>\n",
              "    </tr>\n",
              "  </thead>\n",
              "  <tbody>\n",
              "    <tr>\n",
              "      <th>0</th>\n",
              "      <td>18.0</td>\n",
              "      <td>8</td>\n",
              "      <td>307.0</td>\n",
              "      <td>130.0</td>\n",
              "      <td>3504</td>\n",
              "      <td>12.0</td>\n",
              "      <td>70</td>\n",
              "      <td>\\t\"chevrolet chevelle malibu\"</td>\n",
              "    </tr>\n",
              "    <tr>\n",
              "      <th>1</th>\n",
              "      <td>15.0</td>\n",
              "      <td>8</td>\n",
              "      <td>350.0</td>\n",
              "      <td>165.0</td>\n",
              "      <td>3693</td>\n",
              "      <td>11.5</td>\n",
              "      <td>70</td>\n",
              "      <td>\\t\"buick skylark 320\"</td>\n",
              "    </tr>\n",
              "    <tr>\n",
              "      <th>2</th>\n",
              "      <td>18.0</td>\n",
              "      <td>8</td>\n",
              "      <td>318.0</td>\n",
              "      <td>150.0</td>\n",
              "      <td>3436</td>\n",
              "      <td>11.0</td>\n",
              "      <td>70</td>\n",
              "      <td>\\t\"plymouth satellite\"</td>\n",
              "    </tr>\n",
              "    <tr>\n",
              "      <th>3</th>\n",
              "      <td>16.0</td>\n",
              "      <td>8</td>\n",
              "      <td>304.0</td>\n",
              "      <td>150.0</td>\n",
              "      <td>3433</td>\n",
              "      <td>12.0</td>\n",
              "      <td>70</td>\n",
              "      <td>\\t\"amc rebel sst\"</td>\n",
              "    </tr>\n",
              "    <tr>\n",
              "      <th>4</th>\n",
              "      <td>17.0</td>\n",
              "      <td>8</td>\n",
              "      <td>302.0</td>\n",
              "      <td>140.0</td>\n",
              "      <td>3449</td>\n",
              "      <td>10.5</td>\n",
              "      <td>70</td>\n",
              "      <td>\\t\"ford torino\"</td>\n",
              "    </tr>\n",
              "    <tr>\n",
              "      <th>...</th>\n",
              "      <td>...</td>\n",
              "      <td>...</td>\n",
              "      <td>...</td>\n",
              "      <td>...</td>\n",
              "      <td>...</td>\n",
              "      <td>...</td>\n",
              "      <td>...</td>\n",
              "      <td>...</td>\n",
              "    </tr>\n",
              "    <tr>\n",
              "      <th>393</th>\n",
              "      <td>27.0</td>\n",
              "      <td>4</td>\n",
              "      <td>140.0</td>\n",
              "      <td>86.0</td>\n",
              "      <td>2790</td>\n",
              "      <td>15.6</td>\n",
              "      <td>82</td>\n",
              "      <td>\\t\"ford mustang gl\"</td>\n",
              "    </tr>\n",
              "    <tr>\n",
              "      <th>394</th>\n",
              "      <td>44.0</td>\n",
              "      <td>4</td>\n",
              "      <td>97.0</td>\n",
              "      <td>52.0</td>\n",
              "      <td>2130</td>\n",
              "      <td>24.6</td>\n",
              "      <td>82</td>\n",
              "      <td>\\t\"vw pickup\"</td>\n",
              "    </tr>\n",
              "    <tr>\n",
              "      <th>395</th>\n",
              "      <td>32.0</td>\n",
              "      <td>4</td>\n",
              "      <td>135.0</td>\n",
              "      <td>84.0</td>\n",
              "      <td>2295</td>\n",
              "      <td>11.6</td>\n",
              "      <td>82</td>\n",
              "      <td>\\t\"dodge rampage\"</td>\n",
              "    </tr>\n",
              "    <tr>\n",
              "      <th>396</th>\n",
              "      <td>28.0</td>\n",
              "      <td>4</td>\n",
              "      <td>120.0</td>\n",
              "      <td>79.0</td>\n",
              "      <td>2625</td>\n",
              "      <td>18.6</td>\n",
              "      <td>82</td>\n",
              "      <td>\\t\"ford ranger\"</td>\n",
              "    </tr>\n",
              "    <tr>\n",
              "      <th>397</th>\n",
              "      <td>31.0</td>\n",
              "      <td>4</td>\n",
              "      <td>119.0</td>\n",
              "      <td>82.0</td>\n",
              "      <td>2720</td>\n",
              "      <td>19.4</td>\n",
              "      <td>82</td>\n",
              "      <td>\\t\"chevy s-10\"</td>\n",
              "    </tr>\n",
              "  </tbody>\n",
              "</table>\n",
              "<p>398 rows × 8 columns</p>\n",
              "</div>"
            ],
            "text/plain": [
              "      mpg  cylinders  ...  model_year                       car_name\n",
              "0    18.0          8  ...          70  \\t\"chevrolet chevelle malibu\"\n",
              "1    15.0          8  ...          70          \\t\"buick skylark 320\"\n",
              "2    18.0          8  ...          70         \\t\"plymouth satellite\"\n",
              "3    16.0          8  ...          70              \\t\"amc rebel sst\"\n",
              "4    17.0          8  ...          70                \\t\"ford torino\"\n",
              "..    ...        ...  ...         ...                            ...\n",
              "393  27.0          4  ...          82            \\t\"ford mustang gl\"\n",
              "394  44.0          4  ...          82                  \\t\"vw pickup\"\n",
              "395  32.0          4  ...          82              \\t\"dodge rampage\"\n",
              "396  28.0          4  ...          82                \\t\"ford ranger\"\n",
              "397  31.0          4  ...          82                 \\t\"chevy s-10\"\n",
              "\n",
              "[398 rows x 8 columns]"
            ]
          },
          "metadata": {},
          "execution_count": 83
        }
      ]
    },
    {
      "cell_type": "markdown",
      "metadata": {
        "id": "GFZYB9ZophE_"
      },
      "source": [
        "Look at the first 5 rows using the `head()` function:"
      ]
    },
    {
      "cell_type": "code",
      "metadata": {
        "id": "2cAGXp-QphE_"
      },
      "source": [
        "# Your code here:\n"
      ],
      "execution_count": null,
      "outputs": []
    },
    {
      "cell_type": "markdown",
      "metadata": {
        "id": "Cs1MGZ6_phFA"
      },
      "source": [
        "Evaluate the data to ensure that all numeric columns are correctly detected as such by pandas. If a column is misclassified as object, coerce it to numeric."
      ]
    },
    {
      "cell_type": "code",
      "metadata": {
        "colab": {
          "base_uri": "https://localhost:8080/"
        },
        "id": "gKJqRHgdphFA",
        "outputId": "04d876b3-2add-46b2-ab75-76d95e5b6afd"
      },
      "source": [
        "# Your code here:\n",
        "df.info()"
      ],
      "execution_count": 84,
      "outputs": [
        {
          "output_type": "stream",
          "name": "stdout",
          "text": [
            "<class 'pandas.core.frame.DataFrame'>\n",
            "RangeIndex: 398 entries, 0 to 397\n",
            "Data columns (total 8 columns):\n",
            " #   Column        Non-Null Count  Dtype  \n",
            "---  ------        --------------  -----  \n",
            " 0   mpg           398 non-null    float64\n",
            " 1   cylinders     398 non-null    int64  \n",
            " 2   displacement  398 non-null    float64\n",
            " 3   horse_power   392 non-null    float64\n",
            " 4   weight        398 non-null    int64  \n",
            " 5   acceleration  398 non-null    float64\n",
            " 6   model_year    398 non-null    int64  \n",
            " 7   car_name      398 non-null    object \n",
            "dtypes: float64(4), int64(3), object(1)\n",
            "memory usage: 25.0+ KB\n"
          ]
        }
      ]
    },
    {
      "cell_type": "markdown",
      "metadata": {
        "id": "5e2vZdk5phFA"
      },
      "source": [
        "What is the newest model year and the oldest model year?"
      ]
    },
    {
      "cell_type": "code",
      "metadata": {
        "colab": {
          "base_uri": "https://localhost:8080/"
        },
        "id": "cljazwMKphFA",
        "outputId": "2334bf51-df39-4d77-8b09-1b3524d908d7"
      },
      "source": [
        "# Your code here:\n",
        "df.model_year.max() , df.model_year.min()"
      ],
      "execution_count": 86,
      "outputs": [
        {
          "output_type": "execute_result",
          "data": {
            "text/plain": [
              "(82, 70)"
            ]
          },
          "metadata": {},
          "execution_count": 86
        }
      ]
    },
    {
      "cell_type": "markdown",
      "metadata": {
        "id": "v-yeAoDPphFB"
      },
      "source": [
        "Check the dataset for missing values and remove all rows containing at least one missing value."
      ]
    },
    {
      "cell_type": "code",
      "metadata": {
        "id": "M1DtmsggphFB"
      },
      "source": [
        "# Your code here:\n",
        "\n",
        "df.drop(index=df.index[df.isnull().any(axis=1)].values, inplace= True)"
      ],
      "execution_count": 108,
      "outputs": []
    },
    {
      "cell_type": "markdown",
      "metadata": {
        "id": "6k9RFruzphFB"
      },
      "source": [
        "Find the frequency table for the `cylinders` column using the `value_counts()` function. How many possible values of cylinders are there?"
      ]
    },
    {
      "cell_type": "code",
      "metadata": {
        "colab": {
          "base_uri": "https://localhost:8080/"
        },
        "id": "YpOHfWPcphFB",
        "outputId": "57dbd4e6-89c2-4b43-ae3c-e8b71bdf27db"
      },
      "source": [
        "# Your code here:\n",
        "df.cylinders.value_counts()"
      ],
      "execution_count": 109,
      "outputs": [
        {
          "output_type": "execute_result",
          "data": {
            "text/plain": [
              "4    199\n",
              "8    103\n",
              "6     83\n",
              "3      4\n",
              "5      3\n",
              "Name: cylinders, dtype: int64"
            ]
          },
          "metadata": {},
          "execution_count": 109
        }
      ]
    },
    {
      "cell_type": "markdown",
      "metadata": {
        "id": "3iqNV_nMphFC"
      },
      "source": [
        "We would like to generate a linear regression model that will predict mpg. To do this, first drop the `car_name` column since it does not contain any quantitative data. Next separate the dataframe to predictor and response variables. Separate those into test and training data with 80% of the data in the training set and the remainder in the test set. \n",
        "\n",
        "Assign the predictor and response training data to `X_train` and `y_train` respectively. Similarly, assign the predictor and response test data to `X_test` and `y_test`.\n",
        "\n",
        "*Hint: To separate data for training and test, use the `train_test_split` method we used in previous labs.*"
      ]
    },
    {
      "cell_type": "code",
      "metadata": {
        "id": "AtC6zpE01nwD"
      },
      "source": [
        "from sklearn.model_selection import train_test_split"
      ],
      "execution_count": 110,
      "outputs": []
    },
    {
      "cell_type": "code",
      "metadata": {
        "id": "gSRFr3xYphFD"
      },
      "source": [
        "# Your code here:\n",
        "df.drop(columns='car_name',inplace = True)\n",
        "X_train, X_test, y_train, y_test = train_test_split(df.drop(columns='mpg'), df['mpg'], test_size=0.2)"
      ],
      "execution_count": 132,
      "outputs": []
    },
    {
      "cell_type": "markdown",
      "metadata": {
        "id": "tJtzAIVxphFD"
      },
      "source": [
        "Now we will processed and peform linear regression on this data to predict the mpg for each vehicle. \n",
        "\n",
        "#### In the next cell, create an instance of the linear regression model and call it `auto_model`. Fit `auto_model` with your training data."
      ]
    },
    {
      "cell_type": "code",
      "metadata": {
        "id": "Z_l-__SF2jMQ"
      },
      "source": [
        "from sklearn.linear_model import LinearRegression"
      ],
      "execution_count": 112,
      "outputs": []
    },
    {
      "cell_type": "code",
      "metadata": {
        "id": "fqlCgNeBphFE"
      },
      "source": [
        "# Your code here:\n",
        "l_reg = LinearRegression()"
      ],
      "execution_count": 117,
      "outputs": []
    },
    {
      "cell_type": "code",
      "metadata": {
        "colab": {
          "base_uri": "https://localhost:8080/"
        },
        "id": "OATwjb0W21Ok",
        "outputId": "52e394ce-91b1-44c1-8883-9567c4156033"
      },
      "source": [
        "X_train.isnull().sum()"
      ],
      "execution_count": 118,
      "outputs": [
        {
          "output_type": "execute_result",
          "data": {
            "text/plain": [
              "cylinders       0\n",
              "displacement    0\n",
              "horse_power     0\n",
              "weight          0\n",
              "acceleration    0\n",
              "model_year      0\n",
              "dtype: int64"
            ]
          },
          "metadata": {},
          "execution_count": 118
        }
      ]
    },
    {
      "cell_type": "code",
      "metadata": {
        "colab": {
          "base_uri": "https://localhost:8080/"
        },
        "id": "Bf_g4sCO2rEO",
        "outputId": "b8f6496f-4f9b-4ae4-c01c-4313d56cad4d"
      },
      "source": [
        "l_reg.fit(X_train,y_train)"
      ],
      "execution_count": 119,
      "outputs": [
        {
          "output_type": "execute_result",
          "data": {
            "text/plain": [
              "LinearRegression(copy_X=True, fit_intercept=True, n_jobs=None, normalize=False)"
            ]
          },
          "metadata": {},
          "execution_count": 119
        }
      ]
    },
    {
      "cell_type": "markdown",
      "metadata": {
        "id": "gVy48dJhphFE"
      },
      "source": [
        "# Challenge 4 - Evaluate the Model\n",
        "\n",
        "In addition to evaluating your model with F-test and t-test, you can also use the *Coefficient of Determination* (a.k.a. *r squared score*). This method does not simply tell *yes* or *no* about the model fit but instead indicates how much variation can be explained by the model. Based on the r squared score, you can decide whether to improve your model in order to obtain a better fit.\n",
        "\n",
        "You can learn about the r squared score [here](). Its formula is:\n",
        "\n",
        "![R Squared](../r-squared.png)\n",
        "\n",
        "...where:\n",
        "\n",
        "* yi is an actual data point.\n",
        "* ŷi is the corresponding data point on the estimated regression line.\n",
        "\n",
        "By adding the squares of the difference between all yi-ŷi pairs, we have a measure called SSE (*error sum of squares*) which is an application of the r squared score to indicate the extent to which the estimated regression model is different from the actual data. And we attribute that difference to the random error that is unavoidable in the real world. Obviously, we want the SSE value to be as small as possible.\n",
        "\n",
        "#### In the next cell, compute the predicted *y* based on `X_train` and call it `y_pred`. Then calcualte the r squared score between `y_pred` and `y_train` which indicates how well the estimated regression model fits the training data.\n",
        "\n",
        "*Hint: r squared score can be calculated using `sklearn.metrics.r2_score` ([documentation](https://scikit-learn.org/stable/modules/generated/sklearn.metrics.r2_score.html)).*"
      ]
    },
    {
      "cell_type": "code",
      "metadata": {
        "id": "Pfh4x_2R4-fp"
      },
      "source": [
        "from sklearn import metrics"
      ],
      "execution_count": 124,
      "outputs": []
    },
    {
      "cell_type": "code",
      "metadata": {
        "colab": {
          "base_uri": "https://localhost:8080/"
        },
        "id": "2r58_UD2phFF",
        "outputId": "c17ff77e-aff4-4c7c-d51c-a88905293cda"
      },
      "source": [
        "# Your code here:\n",
        "y_pred = l_reg.predict(X_train)\n",
        "metrics.r2_score(y_pred=y_pred,y_true=y_train)"
      ],
      "execution_count": 125,
      "outputs": [
        {
          "output_type": "execute_result",
          "data": {
            "text/plain": [
              "0.8091021501432932"
            ]
          },
          "metadata": {},
          "execution_count": 125
        }
      ]
    },
    {
      "cell_type": "markdown",
      "metadata": {
        "id": "oEF5s1FPphFF"
      },
      "source": [
        "#### Our next step is to evaluate the model using the test data. \n",
        "\n",
        "We would like to ensure that our model is not overfitting the data. This means that our model was made to fit too closely to the training data by being overly complex. If a model is overfitted, it is not generalizable to data outside the training data. In that case, we need to reduce the complexity of the model by removing certain features (variables).\n",
        "\n",
        "In the cell below, use the model to generate the predicted values for the test data and assign them to `y_test_pred`. Compute the r squared score of the predicted `y_test_pred` and the oberserved `y_test` data."
      ]
    },
    {
      "cell_type": "code",
      "metadata": {
        "colab": {
          "base_uri": "https://localhost:8080/"
        },
        "id": "NeCS6InJphFG",
        "outputId": "5bc74732-e7a9-4f1e-c287-2934f992f1fd"
      },
      "source": [
        "# Your code here:\n",
        "y_test_pred = l_reg.predict(X_test)\n",
        "metrics.r2_score(y_test,y_test_pred)"
      ],
      "execution_count": 129,
      "outputs": [
        {
          "output_type": "execute_result",
          "data": {
            "text/plain": [
              "0.7980516149286405"
            ]
          },
          "metadata": {},
          "execution_count": 129
        }
      ]
    },
    {
      "cell_type": "code",
      "metadata": {
        "colab": {
          "base_uri": "https://localhost:8080/"
        },
        "id": "PZdvw_jqE7C_",
        "outputId": "a50cbefd-ef74-4b8b-8b03-571d5aad637d"
      },
      "source": [
        "y_test"
      ],
      "execution_count": 142,
      "outputs": [
        {
          "output_type": "execute_result",
          "data": {
            "text/plain": [
              "238    33.5\n",
              "148    26.0\n",
              "29     27.0\n",
              "266    30.0\n",
              "31     25.0\n",
              "       ... \n",
              "360    30.7\n",
              "82     23.0\n",
              "71     19.0\n",
              "18     27.0\n",
              "182    28.0\n",
              "Name: mpg, Length: 79, dtype: float64"
            ]
          },
          "metadata": {},
          "execution_count": 142
        }
      ]
    },
    {
      "cell_type": "markdown",
      "metadata": {
        "id": "tF42mUk5phFH"
      },
      "source": [
        "#### Explaining the results\n",
        "\n",
        "The r squared scores of the training data and the test data are pretty close (0.8146 vs 0.7818). This means our model is not overfitted. However, there is still room to improve the model fit. Move on to the next challenge."
      ]
    },
    {
      "cell_type": "markdown",
      "metadata": {
        "id": "uJwFSihRphFH"
      },
      "source": [
        "# Challenge 5 - Improve the Model Fit\n",
        "\n",
        "While the most common way to improve the fit of a model is by using [regularization](https://datanice.github.io/machine-learning-101-what-is-regularization-interactive.html), there are other simpler ways to improve model fit. The first is to create a simpler model. The second is to increase the train sample size.\n",
        "\n",
        "Let us start with the easier option and increase our train sample size to 90% of the data. Create a new test train split and name the new predictors and response variables `X_train09`, `X_test09`, `y_train09`, `y_test09`."
      ]
    },
    {
      "cell_type": "code",
      "metadata": {
        "id": "aMbJ8rbPphFI"
      },
      "source": [
        "# Your code here:\n",
        "X_train09, X_test09, y_train09, y_test09 = train_test_split(df.drop(columns='mpg'), df['mpg'], test_size=0.1)"
      ],
      "execution_count": 133,
      "outputs": []
    },
    {
      "cell_type": "markdown",
      "metadata": {
        "id": "iq2hI7_AphFI"
      },
      "source": [
        "Initialize a new linear regression model. Name this model `auto_model09`. Fit the model to the new sample (training) data."
      ]
    },
    {
      "cell_type": "code",
      "metadata": {
        "colab": {
          "base_uri": "https://localhost:8080/"
        },
        "id": "8gLPtvNlphFI",
        "outputId": "e63e7ce5-9dcb-4dc9-e8fc-03da018202a0"
      },
      "source": [
        "# Your code here:\n",
        "auto_model09 = LinearRegression()\n",
        "auto_model09.fit(X_train09,y_train09)"
      ],
      "execution_count": 134,
      "outputs": [
        {
          "output_type": "execute_result",
          "data": {
            "text/plain": [
              "LinearRegression(copy_X=True, fit_intercept=True, n_jobs=None, normalize=False)"
            ]
          },
          "metadata": {},
          "execution_count": 134
        }
      ]
    },
    {
      "cell_type": "markdown",
      "metadata": {
        "id": "mEdiRacjphFJ"
      },
      "source": [
        "Compute the predicted values and r squared score for our new model and new sample data."
      ]
    },
    {
      "cell_type": "code",
      "metadata": {
        "colab": {
          "base_uri": "https://localhost:8080/"
        },
        "id": "HXpqY98jphFJ",
        "outputId": "728b8706-3871-4f41-d571-1c97cfbf2a1f"
      },
      "source": [
        "# Your code here:\n",
        "y_pred09 = auto_model09.predict(X_train09)\n",
        "metrics.r2_score(y_pred=y_pred09,y_true=y_train09)"
      ],
      "execution_count": 135,
      "outputs": [
        {
          "output_type": "execute_result",
          "data": {
            "text/plain": [
              "0.8100343381555891"
            ]
          },
          "metadata": {},
          "execution_count": 135
        }
      ]
    },
    {
      "cell_type": "markdown",
      "metadata": {
        "id": "bvkKC9MUphFJ"
      },
      "source": [
        "Compute the r squared score for the smaller test set. Is there an improvement in the test r squared?"
      ]
    },
    {
      "cell_type": "code",
      "metadata": {
        "colab": {
          "base_uri": "https://localhost:8080/"
        },
        "id": "qn5qmeeBphFJ",
        "outputId": "d887dd72-a733-4fa6-ccc3-1132bcaebe8b"
      },
      "source": [
        "# Your code here:\n",
        "y_test_pred09 = auto_model09.predict(X_test09)\n",
        "metrics.r2_score(y_test09,y_test_pred09)"
      ],
      "execution_count": 136,
      "outputs": [
        {
          "output_type": "execute_result",
          "data": {
            "text/plain": [
              "0.7984935132156679"
            ]
          },
          "metadata": {},
          "execution_count": 136
        }
      ]
    },
    {
      "cell_type": "markdown",
      "metadata": {
        "id": "7Bg4En9cphFK"
      },
      "source": [
        "# Bonus Challenge 2 - Backward Elimination \n",
        "\n",
        "The main way to produce a simpler linear regression model is to reduce the number of variables used in the model. In scikit-learn, we can do this by using recursive feature elimination. You can read more about RFE [here](https://scikit-learn.org/stable/modules/generated/sklearn.feature_selection.RFE.html).\n",
        "\n",
        "In the next cell, we will import RFE"
      ]
    },
    {
      "cell_type": "code",
      "metadata": {
        "id": "IrJDRAaYphFK"
      },
      "source": [
        "from sklearn.feature_selection import RFE"
      ],
      "execution_count": 137,
      "outputs": []
    },
    {
      "cell_type": "markdown",
      "metadata": {
        "id": "zRRgwPbGphFK"
      },
      "source": [
        "Follow the documentation and initialize an RFE model using the `auto_model` linear regression model. Set `n_features_to_select=3`"
      ]
    },
    {
      "cell_type": "code",
      "metadata": {
        "id": "xL6JlvAGphFK"
      },
      "source": [
        "# Your code here:\n",
        "selector = RFE(auto_model09,n_features_to_select=3,step=1)\n"
      ],
      "execution_count": 138,
      "outputs": []
    },
    {
      "cell_type": "markdown",
      "metadata": {
        "id": "bnMwKqWnphFL"
      },
      "source": [
        "Fit the model and print the ranking"
      ]
    },
    {
      "cell_type": "code",
      "metadata": {
        "colab": {
          "base_uri": "https://localhost:8080/"
        },
        "id": "1rWzbCSKphFL",
        "outputId": "9be505f5-2fb1-4321-8d32-3040cb4f1aa6"
      },
      "source": [
        "# Your code here:\n",
        "selector.fit(X_train09,y_train09)\n",
        "selector.ranking_"
      ],
      "execution_count": 143,
      "outputs": [
        {
          "output_type": "execute_result",
          "data": {
            "text/plain": [
              "array([1, 3, 4, 2, 1, 1])"
            ]
          },
          "metadata": {},
          "execution_count": 143
        }
      ]
    },
    {
      "cell_type": "markdown",
      "metadata": {
        "id": "OKtTlNq9phFL"
      },
      "source": [
        "Feature importance is ranked from most important (1) to least important (4). Generate a model with the three most important features. The features correspond to variable names. For example, feature 1 is `cylinders` and feature 2 is `displacement`.\n",
        "\n",
        "Perform a test-train split on this reduced column data and call the split data `X_train_reduced`, `X_test_reduced`, `y_test_reduced`, `y_train_reduced`. Use an 80% split."
      ]
    },
    {
      "cell_type": "code",
      "metadata": {
        "id": "3KQe_Ty7phFL"
      },
      "source": [
        "# Your code here:\n",
        "df_short = df[['mpg','cylinders',\t'weight',\t'acceleration'\t,'model_year']]\n",
        "df_short"
      ],
      "execution_count": null,
      "outputs": []
    },
    {
      "cell_type": "code",
      "metadata": {
        "id": "OXThIQycF3UC"
      },
      "source": [
        "X_train_reduced, X_test_reduced, y_train_reduced, y_test_reduced = train_test_split(df_short.drop(columns='mpg'), df_short['mpg'], test_size=0.2)"
      ],
      "execution_count": 149,
      "outputs": []
    },
    {
      "cell_type": "markdown",
      "metadata": {
        "id": "ay4enzHfphFM"
      },
      "source": [
        "Generate a new model called `auto_model_reduced` and fit this model. Then proceed to compute the r squared score for the model. Did this cause an improvement in the r squared score?"
      ]
    },
    {
      "cell_type": "code",
      "metadata": {
        "colab": {
          "base_uri": "https://localhost:8080/"
        },
        "id": "wsBqowwqphFM",
        "outputId": "ec3937d8-2524-4c92-f2a9-476a543b1da3"
      },
      "source": [
        "# Your code here: \n",
        "auto_model_reduced = LinearRegression()\n",
        "auto_model_reduced.fit(X_train_reduced,y_train_reduced) "
      ],
      "execution_count": 150,
      "outputs": [
        {
          "output_type": "execute_result",
          "data": {
            "text/plain": [
              "LinearRegression(copy_X=True, fit_intercept=True, n_jobs=None, normalize=False)"
            ]
          },
          "metadata": {},
          "execution_count": 150
        }
      ]
    },
    {
      "cell_type": "code",
      "metadata": {
        "colab": {
          "base_uri": "https://localhost:8080/"
        },
        "id": "LocLA7-nGb8b",
        "outputId": "0ad1e783-107a-4f93-d886-5dc634c11de9"
      },
      "source": [
        "y_test_pred_reduced = auto_model_reduced.predict(X_test_reduced)\n",
        "metrics.r2_score(y_test_reduced,y_test_pred_reduced)\n",
        "# It dindt improve the r2 score"
      ],
      "execution_count": 151,
      "outputs": [
        {
          "output_type": "execute_result",
          "data": {
            "text/plain": [
              "0.7966206560656637"
            ]
          },
          "metadata": {},
          "execution_count": 151
        }
      ]
    },
    {
      "cell_type": "markdown",
      "metadata": {
        "id": "HSnOpiDqphFM"
      },
      "source": [
        "#### Conclusion\n",
        "\n",
        "You may obtain the impression from this lab that without knowing statistical methods in depth, it is difficult to make major progress in machine learning. That is correct. If you are motivated to become a data scientist, statistics is the subject you must be proficient in and there is no shortcut. \n",
        "\n",
        "Completing these labs is not likely to make you a data scientist. But you will have a good sense about what are there in machine learning and what are good for you. In your future career, you can choose one of the three tracks:\n",
        "\n",
        "* Data scientists who need to be proficient in statistical methods.\n",
        "\n",
        "* Data engineers who need to be good at programming.\n",
        "\n",
        "* Data integration specialists who are business or content experts but also understand data and programming. This cross-disciplinary track brings together data, technology, and business and will be in high demands in the next decade."
      ]
    }
  ]
}